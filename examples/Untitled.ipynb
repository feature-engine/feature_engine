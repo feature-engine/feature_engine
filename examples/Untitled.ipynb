{
 "cells": [
  {
   "cell_type": "code",
   "execution_count": 1,
   "metadata": {},
   "outputs": [],
   "source": [
    "import numpy as np\n",
    "import pandas as pd"
   ]
  },
  {
   "cell_type": "code",
   "execution_count": 2,
   "metadata": {},
   "outputs": [],
   "source": [
    "# from feature_engine._prediction.target_mean_classifier import TargetMeanClassifier"
   ]
  },
  {
   "cell_type": "code",
   "execution_count": 3,
   "metadata": {},
   "outputs": [],
   "source": [
    "from feature_engine._prediction.target_mean_regressor import TargetMeanRegressor"
   ]
  },
  {
   "cell_type": "code",
   "execution_count": 4,
   "metadata": {},
   "outputs": [
    {
     "data": {
      "text/html": [
       "<div>\n",
       "<style scoped>\n",
       "    .dataframe tbody tr th:only-of-type {\n",
       "        vertical-align: middle;\n",
       "    }\n",
       "\n",
       "    .dataframe tbody tr th {\n",
       "        vertical-align: top;\n",
       "    }\n",
       "\n",
       "    .dataframe thead th {\n",
       "        text-align: right;\n",
       "    }\n",
       "</style>\n",
       "<table border=\"1\" class=\"dataframe\">\n",
       "  <thead>\n",
       "    <tr style=\"text-align: right;\">\n",
       "      <th></th>\n",
       "      <th>cat_var_A</th>\n",
       "      <th>cat_var_B</th>\n",
       "      <th>num_var_A</th>\n",
       "      <th>num_var_B</th>\n",
       "    </tr>\n",
       "  </thead>\n",
       "  <tbody>\n",
       "    <tr>\n",
       "      <th>0</th>\n",
       "      <td>A</td>\n",
       "      <td>A</td>\n",
       "      <td>1</td>\n",
       "      <td>1</td>\n",
       "    </tr>\n",
       "    <tr>\n",
       "      <th>1</th>\n",
       "      <td>A</td>\n",
       "      <td>A</td>\n",
       "      <td>1</td>\n",
       "      <td>1</td>\n",
       "    </tr>\n",
       "    <tr>\n",
       "      <th>2</th>\n",
       "      <td>A</td>\n",
       "      <td>A</td>\n",
       "      <td>1</td>\n",
       "      <td>1</td>\n",
       "    </tr>\n",
       "    <tr>\n",
       "      <th>3</th>\n",
       "      <td>A</td>\n",
       "      <td>A</td>\n",
       "      <td>1</td>\n",
       "      <td>1</td>\n",
       "    </tr>\n",
       "    <tr>\n",
       "      <th>4</th>\n",
       "      <td>A</td>\n",
       "      <td>A</td>\n",
       "      <td>1</td>\n",
       "      <td>1</td>\n",
       "    </tr>\n",
       "  </tbody>\n",
       "</table>\n",
       "</div>"
      ],
      "text/plain": [
       "  cat_var_A cat_var_B  num_var_A  num_var_B\n",
       "0         A         A          1          1\n",
       "1         A         A          1          1\n",
       "2         A         A          1          1\n",
       "3         A         A          1          1\n",
       "4         A         A          1          1"
      ]
     },
     "execution_count": 4,
     "metadata": {},
     "output_type": "execute_result"
    }
   ],
   "source": [
    "def df_regression():\n",
    "    df = {\n",
    "        \"cat_var_A\": [\"A\"] * 5 + [\"B\"] * 5 + [\"C\"] * 5 + [\"D\"] * 5,\n",
    "        \"cat_var_B\": [\"A\"] * 6 + [\"B\"] * 2 + [\"C\"] * 2 + [\"B\"] * 2 + [\"C\"] * 2 + [\"D\"] * 6,\n",
    "        \"num_var_A\": [1, 1, 1, 1, 1, 2, 2, 2, 2, 2, 3, 3, 3, 3, 3, 4, 4, 4, 4, 4],\n",
    "        \"num_var_B\": [1, 1, 1, 1, 1, 1, 2, 2, 3, 3, 2, 2, 3, 3, 4, 4, 4, 4, 4, 4],\n",
    "    }\n",
    "\n",
    "    df = pd.DataFrame(df)\n",
    "    y = pd.Series([0, 0, 0, 0, 0, 1, 1, 1, 1, 1, 2, 2, 2, 2, 2, 3, 3, 3, 3, 3])\n",
    "    return df, y\n",
    "\n",
    "X, y = df_regression()\n",
    "\n",
    "X.head()"
   ]
  },
  {
   "cell_type": "code",
   "execution_count": 20,
   "metadata": {},
   "outputs": [],
   "source": [
    "    tr = TargetMeanRegressor(bins=2)\n",
    "    tr.fit(X, y)\n",
    "\n",
    "    pred = tr.predict(X)"
   ]
  },
  {
   "cell_type": "code",
   "execution_count": 21,
   "metadata": {},
   "outputs": [
    {
     "data": {
      "text/plain": [
       "array([0.34166667, 0.34166667, 0.34166667, 0.34166667, 0.34166667,\n",
       "       0.59166667, 0.925     , 0.925     , 1.325     , 1.325     ,\n",
       "       1.675     , 1.675     , 2.075     , 2.075     , 2.40833333,\n",
       "       2.65833333, 2.65833333, 2.65833333, 2.65833333, 2.65833333])"
      ]
     },
     "execution_count": 21,
     "metadata": {},
     "output_type": "execute_result"
    }
   ],
   "source": [
    "pred"
   ]
  },
  {
   "cell_type": "code",
   "execution_count": 9,
   "metadata": {},
   "outputs": [
    {
     "data": {
      "text/plain": [
       "0.16666666666666666"
      ]
     },
     "execution_count": 9,
     "metadata": {},
     "output_type": "execute_result"
    }
   ],
   "source": [
    "np.mean([0, 0, 0, 0, 0, 1])"
   ]
  },
  {
   "cell_type": "code",
   "execution_count": 31,
   "metadata": {},
   "outputs": [
    {
     "data": {
      "text/plain": [
       "array([[-0.05129329, -2.99573227],\n",
       "       [-0.05129329, -2.99573227],\n",
       "       [-0.05129329, -2.99573227],\n",
       "       [-0.05129329, -2.99573227],\n",
       "       [-0.05129329, -2.99573227],\n",
       "       [-0.05129329, -2.99573227],\n",
       "       [-0.19237189, -1.74296931],\n",
       "       [-0.19237189, -1.74296931],\n",
       "       [-0.39304259, -1.1239301 ],\n",
       "       [-0.39304259, -1.1239301 ],\n",
       "       [-1.1239301 , -0.39304259],\n",
       "       [-1.1239301 , -0.39304259],\n",
       "       [-1.74296931, -0.19237189],\n",
       "       [-1.74296931, -0.19237189],\n",
       "       [-2.99573227, -0.05129329],\n",
       "       [-2.99573227, -0.05129329],\n",
       "       [-2.99573227, -0.05129329],\n",
       "       [-2.99573227, -0.05129329],\n",
       "       [-2.99573227, -0.05129329],\n",
       "       [-2.99573227, -0.05129329]])"
      ]
     },
     "execution_count": 31,
     "metadata": {},
     "output_type": "execute_result"
    }
   ],
   "source": [
    "tr.predict_log_proba(X)"
   ]
  },
  {
   "cell_type": "code",
   "execution_count": 11,
   "metadata": {},
   "outputs": [
    {
     "data": {
      "text/plain": [
       "True"
      ]
     },
     "execution_count": 11,
     "metadata": {},
     "output_type": "execute_result"
    }
   ],
   "source": [
    "isinstance(prob, np.ndarray)"
   ]
  },
  {
   "cell_type": "code",
   "execution_count": 13,
   "metadata": {},
   "outputs": [],
   "source": [
    "arr = np.array([[1., 0.],\n",
    "       [1., 0.],\n",
    "       [1., 0.],\n",
    "       [1., 0.],\n",
    "       [1., 0.],\n",
    "       [1., 0.],\n",
    "       [1., 0.],\n",
    "       [1., 0.],\n",
    "       [1., 0.],\n",
    "       [1., 0.],\n",
    "       [0., 1.],\n",
    "       [0., 1.],\n",
    "       [0., 1.],\n",
    "       [0., 1.],\n",
    "       [0., 1.],\n",
    "       [0., 1.],\n",
    "       [0., 1.],\n",
    "       [0., 1.],\n",
    "       [0., 1.],\n",
    "       [0., 1.]]              )"
   ]
  },
  {
   "cell_type": "code",
   "execution_count": 14,
   "metadata": {},
   "outputs": [
    {
     "data": {
      "text/plain": [
       "array([[1., 0.],\n",
       "       [1., 0.],\n",
       "       [1., 0.],\n",
       "       [1., 0.],\n",
       "       [1., 0.],\n",
       "       [1., 0.],\n",
       "       [1., 0.],\n",
       "       [1., 0.],\n",
       "       [1., 0.],\n",
       "       [1., 0.],\n",
       "       [0., 1.],\n",
       "       [0., 1.],\n",
       "       [0., 1.],\n",
       "       [0., 1.],\n",
       "       [0., 1.],\n",
       "       [0., 1.],\n",
       "       [0., 1.],\n",
       "       [0., 1.],\n",
       "       [0., 1.],\n",
       "       [0., 1.]])"
      ]
     },
     "execution_count": 14,
     "metadata": {},
     "output_type": "execute_result"
    }
   ],
   "source": [
    "arr"
   ]
  },
  {
   "cell_type": "code",
   "execution_count": 15,
   "metadata": {},
   "outputs": [
    {
     "data": {
      "text/plain": [
       "True"
      ]
     },
     "execution_count": 15,
     "metadata": {},
     "output_type": "execute_result"
    }
   ],
   "source": [
    "np.array_equal(arr,prob)"
   ]
  },
  {
   "cell_type": "code",
   "execution_count": null,
   "metadata": {},
   "outputs": [],
   "source": []
  }
 ],
 "metadata": {
  "kernelspec": {
   "display_name": "fenotebook",
   "language": "python",
   "name": "fenotebook"
  },
  "language_info": {
   "codemirror_mode": {
    "name": "ipython",
    "version": 3
   },
   "file_extension": ".py",
   "mimetype": "text/x-python",
   "name": "python",
   "nbconvert_exporter": "python",
   "pygments_lexer": "ipython3",
   "version": "3.8.2"
  },
  "toc": {
   "base_numbering": 1,
   "nav_menu": {},
   "number_sections": true,
   "sideBar": true,
   "skip_h1_title": false,
   "title_cell": "Table of Contents",
   "title_sidebar": "Contents",
   "toc_cell": false,
   "toc_position": {},
   "toc_section_display": true,
   "toc_window_display": false
  }
 },
 "nbformat": 4,
 "nbformat_minor": 4
}
