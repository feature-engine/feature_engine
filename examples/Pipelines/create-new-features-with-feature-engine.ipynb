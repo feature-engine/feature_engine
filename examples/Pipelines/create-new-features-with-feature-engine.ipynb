{
 "cells": [
  {
   "cell_type": "markdown",
   "metadata": {
    "papermill": {
     "duration": 0.023609,
     "end_time": "2021-01-23T12:18:22.630223",
     "exception": false,
     "start_time": "2021-01-23T12:18:22.606614",
     "status": "completed"
    },
    "tags": []
   },
   "source": [
    "# Create new features within a Pipeline\n",
    "\n",
    "In this notebook, I show how easy and practical is to create new features Feature-engine and the scikit-learn pipeline.\n",
    "\n",
    "For this demonstration, we use the UCI Wine Quality Dataset.\n",
    "\n",
    "The data is publicly available on [UCI repository](https://archive.ics.uci.edu/ml/datasets/Wine+Quality)\n",
    "\n",
    "P. Cortez, A. Cerdeira, F. Almeida, T. Matos and J. Reis. Modeling wine preferences by data mining from physicochemical properties. In Decision Support Systems, Elsevier, 47(4):547-553, 2009."
   ]
  },
  {
   "cell_type": "code",
   "execution_count": 1,
   "metadata": {},
   "outputs": [
    {
     "data": {
      "text/plain": [
       "'1.0.2'"
      ]
     },
     "execution_count": 1,
     "metadata": {},
     "output_type": "execute_result"
    }
   ],
   "source": [
    "import feature_engine\n",
    "feature_engine.__version__"
   ]
  },
  {
   "cell_type": "code",
   "execution_count": 2,
   "metadata": {
    "_cell_guid": "b1076dfc-b9ad-4769-8c92-a6c4dae69d19",
    "_uuid": "8f2839f25d086af736a60e9eeb907d3b93b6e0e5",
    "execution": {
     "iopub.execute_input": "2021-01-23T12:18:33.165436Z",
     "iopub.status.busy": "2021-01-23T12:18:33.164629Z",
     "iopub.status.idle": "2021-01-23T12:18:34.763875Z",
     "shell.execute_reply": "2021-01-23T12:18:34.763230Z"
    },
    "papermill": {
     "duration": 1.632752,
     "end_time": "2021-01-23T12:18:34.764012",
     "exception": false,
     "start_time": "2021-01-23T12:18:33.131260",
     "status": "completed"
    },
    "tags": []
   },
   "outputs": [],
   "source": [
    "import numpy as np\n",
    "import matplotlib.pyplot as plt\n",
    "import pandas as pd\n",
    "import seaborn as sns\n",
    "\n",
    "from sklearn.ensemble import GradientBoostingClassifier\n",
    "from sklearn.metrics import roc_auc_score\n",
    "from sklearn.model_selection import train_test_split, cross_validate\n",
    "from sklearn.pipeline import Pipeline\n",
    "\n",
    "\n",
    "# import classes from Feature-engine\n",
    "from feature_engine.creation import MathematicalCombination, CombineWithReferenceFeature"
   ]
  },
  {
   "cell_type": "code",
   "execution_count": 3,
   "metadata": {
    "execution": {
     "iopub.execute_input": "2021-01-23T12:18:34.826210Z",
     "iopub.status.busy": "2021-01-23T12:18:34.825423Z",
     "iopub.status.idle": "2021-01-23T12:18:34.876223Z",
     "shell.execute_reply": "2021-01-23T12:18:34.875535Z"
    },
    "papermill": {
     "duration": 0.086863,
     "end_time": "2021-01-23T12:18:34.876336",
     "exception": false,
     "start_time": "2021-01-23T12:18:34.789473",
     "status": "completed"
    },
    "tags": []
   },
   "outputs": [
    {
     "name": "stdout",
     "output_type": "stream",
     "text": [
      "(1599, 12)\n"
     ]
    },
    {
     "data": {
      "text/html": [
       "<div>\n",
       "<style scoped>\n",
       "    .dataframe tbody tr th:only-of-type {\n",
       "        vertical-align: middle;\n",
       "    }\n",
       "\n",
       "    .dataframe tbody tr th {\n",
       "        vertical-align: top;\n",
       "    }\n",
       "\n",
       "    .dataframe thead th {\n",
       "        text-align: right;\n",
       "    }\n",
       "</style>\n",
       "<table border=\"1\" class=\"dataframe\">\n",
       "  <thead>\n",
       "    <tr style=\"text-align: right;\">\n",
       "      <th></th>\n",
       "      <th>fixed acidity</th>\n",
       "      <th>volatile acidity</th>\n",
       "      <th>citric acid</th>\n",
       "      <th>residual sugar</th>\n",
       "      <th>chlorides</th>\n",
       "      <th>free sulfur dioxide</th>\n",
       "      <th>total sulfur dioxide</th>\n",
       "      <th>density</th>\n",
       "      <th>pH</th>\n",
       "      <th>sulphates</th>\n",
       "      <th>alcohol</th>\n",
       "      <th>quality</th>\n",
       "    </tr>\n",
       "  </thead>\n",
       "  <tbody>\n",
       "    <tr>\n",
       "      <th>0</th>\n",
       "      <td>7.4</td>\n",
       "      <td>0.70</td>\n",
       "      <td>0.00</td>\n",
       "      <td>1.9</td>\n",
       "      <td>0.076</td>\n",
       "      <td>11.0</td>\n",
       "      <td>34.0</td>\n",
       "      <td>0.9978</td>\n",
       "      <td>3.51</td>\n",
       "      <td>0.56</td>\n",
       "      <td>9.4</td>\n",
       "      <td>5</td>\n",
       "    </tr>\n",
       "    <tr>\n",
       "      <th>1</th>\n",
       "      <td>7.8</td>\n",
       "      <td>0.88</td>\n",
       "      <td>0.00</td>\n",
       "      <td>2.6</td>\n",
       "      <td>0.098</td>\n",
       "      <td>25.0</td>\n",
       "      <td>67.0</td>\n",
       "      <td>0.9968</td>\n",
       "      <td>3.20</td>\n",
       "      <td>0.68</td>\n",
       "      <td>9.8</td>\n",
       "      <td>5</td>\n",
       "    </tr>\n",
       "    <tr>\n",
       "      <th>2</th>\n",
       "      <td>7.8</td>\n",
       "      <td>0.76</td>\n",
       "      <td>0.04</td>\n",
       "      <td>2.3</td>\n",
       "      <td>0.092</td>\n",
       "      <td>15.0</td>\n",
       "      <td>54.0</td>\n",
       "      <td>0.9970</td>\n",
       "      <td>3.26</td>\n",
       "      <td>0.65</td>\n",
       "      <td>9.8</td>\n",
       "      <td>5</td>\n",
       "    </tr>\n",
       "    <tr>\n",
       "      <th>3</th>\n",
       "      <td>11.2</td>\n",
       "      <td>0.28</td>\n",
       "      <td>0.56</td>\n",
       "      <td>1.9</td>\n",
       "      <td>0.075</td>\n",
       "      <td>17.0</td>\n",
       "      <td>60.0</td>\n",
       "      <td>0.9980</td>\n",
       "      <td>3.16</td>\n",
       "      <td>0.58</td>\n",
       "      <td>9.8</td>\n",
       "      <td>6</td>\n",
       "    </tr>\n",
       "    <tr>\n",
       "      <th>4</th>\n",
       "      <td>7.4</td>\n",
       "      <td>0.70</td>\n",
       "      <td>0.00</td>\n",
       "      <td>1.9</td>\n",
       "      <td>0.076</td>\n",
       "      <td>11.0</td>\n",
       "      <td>34.0</td>\n",
       "      <td>0.9978</td>\n",
       "      <td>3.51</td>\n",
       "      <td>0.56</td>\n",
       "      <td>9.4</td>\n",
       "      <td>5</td>\n",
       "    </tr>\n",
       "  </tbody>\n",
       "</table>\n",
       "</div>"
      ],
      "text/plain": [
       "   fixed acidity  volatile acidity  citric acid  residual sugar  chlorides  \\\n",
       "0            7.4              0.70         0.00             1.9      0.076   \n",
       "1            7.8              0.88         0.00             2.6      0.098   \n",
       "2            7.8              0.76         0.04             2.3      0.092   \n",
       "3           11.2              0.28         0.56             1.9      0.075   \n",
       "4            7.4              0.70         0.00             1.9      0.076   \n",
       "\n",
       "   free sulfur dioxide  total sulfur dioxide  density    pH  sulphates  \\\n",
       "0                 11.0                  34.0   0.9978  3.51       0.56   \n",
       "1                 25.0                  67.0   0.9968  3.20       0.68   \n",
       "2                 15.0                  54.0   0.9970  3.26       0.65   \n",
       "3                 17.0                  60.0   0.9980  3.16       0.58   \n",
       "4                 11.0                  34.0   0.9978  3.51       0.56   \n",
       "\n",
       "   alcohol  quality  \n",
       "0      9.4        5  \n",
       "1      9.8        5  \n",
       "2      9.8        5  \n",
       "3      9.8        6  \n",
       "4      9.4        5  "
      ]
     },
     "execution_count": 3,
     "metadata": {},
     "output_type": "execute_result"
    }
   ],
   "source": [
    "# Load dataset\n",
    "\n",
    "data = pd.read_csv('winequality-red.csv', sep=';')\n",
    "\n",
    "print(data.shape)\n",
    "\n",
    "data.head()"
   ]
  },
  {
   "cell_type": "markdown",
   "metadata": {
    "papermill": {
     "duration": 0.025681,
     "end_time": "2021-01-23T12:18:34.929009",
     "exception": false,
     "start_time": "2021-01-23T12:18:34.903328",
     "status": "completed"
    },
    "tags": []
   },
   "source": [
    "## Exploratory Data Analysis\n",
    "\n",
    "Let's have a look at the variables and their relationships."
   ]
  },
  {
   "cell_type": "code",
   "execution_count": 4,
   "metadata": {
    "execution": {
     "iopub.execute_input": "2021-01-23T12:18:34.991750Z",
     "iopub.status.busy": "2021-01-23T12:18:34.990639Z",
     "iopub.status.idle": "2021-01-23T12:18:35.258866Z",
     "shell.execute_reply": "2021-01-23T12:18:35.258089Z"
    },
    "papermill": {
     "duration": 0.303465,
     "end_time": "2021-01-23T12:18:35.258994",
     "exception": false,
     "start_time": "2021-01-23T12:18:34.955529",
     "status": "completed"
    },
    "tags": []
   },
   "outputs": [
    {
     "data": {
      "image/png": "[encoded data removed]",
      "text/plain": [
       "<Figure size 432x288 with 1 Axes>"
      ]
     },
     "metadata": {
      "needs_background": "light"
     },
     "output_type": "display_data"
    }
   ],
   "source": [
    "# check how many wines of different qualities there are\n",
    "\n",
    "# percentage of wines of each quality\n",
    "(data['quality'].value_counts() / len(data)).sort_index().plot.bar()\n",
    "\n",
    "# plot\n",
    "plt.title('Wine Quality')\n",
    "plt.ylabel('Percentage of wines in the data')\n",
    "plt.xlabel('Wine Quality')\n",
    "plt.show()"
   ]
  },
  {
   "cell_type": "markdown",
   "metadata": {
    "papermill": {
     "duration": 0.027753,
     "end_time": "2021-01-23T12:18:35.315149",
     "exception": false,
     "start_time": "2021-01-23T12:18:35.287396",
     "status": "completed"
    },
    "tags": []
   },
   "source": [
    "Most wines are medium to low quality. Only a few of high quality (>6)"
   ]
  },
  {
   "cell_type": "code",
   "execution_count": 5,
   "metadata": {
    "execution": {
     "iopub.execute_input": "2021-01-23T12:18:35.391630Z",
     "iopub.status.busy": "2021-01-23T12:18:35.390786Z",
     "iopub.status.idle": "2021-01-23T12:18:35.507782Z",
     "shell.execute_reply": "2021-01-23T12:18:35.508352Z"
    },
    "papermill": {
     "duration": 0.164445,
     "end_time": "2021-01-23T12:18:35.508509",
     "exception": false,
     "start_time": "2021-01-23T12:18:35.344064",
     "status": "completed"
    },
    "tags": []
   },
   "outputs": [
    {
     "data": {
      "image/png": "[encoded data removed]",
      "text/plain": [
       "<Figure size 432x288 with 1 Axes>"
      ]
     },
     "metadata": {
      "needs_background": "light"
     },
     "output_type": "display_data"
    }
   ],
   "source": [
    "# let's transform the target into binary\n",
    "\n",
    "# wines with quality below 6 will be considered low quality (0)\n",
    "data['quality'] = np.where(data['quality'] <= 6, 0, 1)\n",
    "\n",
    "(data['quality'].value_counts() / len(data)).plot.bar()\n",
    "\n",
    "plt.title('Wine Quality')\n",
    "plt.ylabel('Percentage of wines in the data')\n",
    "plt.xlabel('Wine Quality')\n",
    "plt.show()"
   ]
  },
  {
   "cell_type": "code",
   "execution_count": 6,
   "metadata": {
    "execution": {
     "iopub.execute_input": "2021-01-23T12:18:35.572752Z",
     "iopub.status.busy": "2021-01-23T12:18:35.571877Z",
     "iopub.status.idle": "2021-01-23T12:18:38.382007Z",
     "shell.execute_reply": "2021-01-23T12:18:38.380900Z"
    },
    "papermill": {
     "duration": 2.844211,
     "end_time": "2021-01-23T12:18:38.382235",
     "exception": false,
     "start_time": "2021-01-23T12:18:35.538024",
     "status": "completed"
    },
    "tags": []
   },
   "outputs": [
    {
     "data": {
      "image/png": "[encoded data removed]",
      "text/plain": [
       "<Figure size 720x720 with 12 Axes>"
      ]
     },
     "metadata": {
      "needs_background": "light"
     },
     "output_type": "display_data"
    }
   ],
   "source": [
    "# let's explore variable distributions with histograms\n",
    "\n",
    "data.hist(bins=50, figsize=(10,10))\n",
    "\n",
    "plt.show()"
   ]
  },
  {
   "cell_type": "markdown",
   "metadata": {
    "papermill": {
     "duration": 0.032299,
     "end_time": "2021-01-23T12:18:38.459251",
     "exception": false,
     "start_time": "2021-01-23T12:18:38.426952",
     "status": "completed"
    },
    "tags": []
   },
   "source": [
    "All variables are continuous."
   ]
  },
  {
   "cell_type": "code",
   "execution_count": 7,
   "metadata": {
    "execution": {
     "iopub.execute_input": "2021-01-23T12:18:38.525363Z",
     "iopub.status.busy": "2021-01-23T12:18:38.524510Z",
     "iopub.status.idle": "2021-01-23T12:18:41.236003Z",
     "shell.execute_reply": "2021-01-23T12:18:41.236590Z"
    },
    "papermill": {
     "duration": 2.746418,
     "end_time": "2021-01-23T12:18:41.236743",
     "exception": false,
     "start_time": "2021-01-23T12:18:38.490325",
     "status": "completed"
    },
    "tags": []
   },
   "outputs": [
    {
     "data": {
      "image/png": "[encoded data removed]",
      "text/plain": [
       "<Figure size 180x1980 with 11 Axes>"
      ]
     },
     "metadata": {
      "needs_background": "light"
     },
     "output_type": "display_data"
    }
   ],
   "source": [
    "# let's evaluate the mean variable value per wine quality\n",
    "\n",
    "g = sns.PairGrid(data, x_vars=[\"quality\"], y_vars=data.columns[0:-1])\n",
    "g.map(sns.barplot)\n",
    "plt.show()"
   ]
  },
  {
   "cell_type": "markdown",
   "metadata": {
    "papermill": {
     "duration": 0.032536,
     "end_time": "2021-01-23T12:18:41.300609",
     "exception": false,
     "start_time": "2021-01-23T12:18:41.268073",
     "status": "completed"
    },
    "tags": []
   },
   "source": [
    "There doesn't seem to be a difference in pH between wines of low and high quality, but high quality wines tend to have more alcohol, for example.\n",
    "\n",
    "Similarly, good quality wines tend to have more sulphates but less free and total sulfur, a molecule that is part of the sulphates.\n",
    "\n",
    "Good quality wines tend to have more citric acid, yet surprisingly, the pH in good quality wines is not lower. So the pH must be equilibrated through something else, for example the sulphates."
   ]
  },
  {
   "cell_type": "code",
   "execution_count": 8,
   "metadata": {
    "execution": {
     "iopub.execute_input": "2021-01-23T12:18:41.366615Z",
     "iopub.status.busy": "2021-01-23T12:18:41.365894Z",
     "iopub.status.idle": "2021-01-23T12:18:42.395276Z",
     "shell.execute_reply": "2021-01-23T12:18:42.394684Z"
    },
    "papermill": {
     "duration": 1.063204,
     "end_time": "2021-01-23T12:18:42.395407",
     "exception": false,
     "start_time": "2021-01-23T12:18:41.332203",
     "status": "completed"
    },
    "tags": []
   },
   "outputs": [
    {
     "name": "stderr",
     "output_type": "stream",
     "text": [
      "C:\\Users\\Sole\\Documents\\Repositories\\envs\\fenotebook\\lib\\site-packages\\seaborn\\axisgrid.py:643: UserWarning: Using the boxplot function without specifying `order` is likely to produce an incorrect plot.\n",
      "  warnings.warn(warning)\n"
     ]
    },
    {
     "data": {
      "image/png": "[encoded data removed]",
      "text/plain": [
       "<Figure size 1296x216 with 6 Axes>"
      ]
     },
     "metadata": {
      "needs_background": "light"
     },
     "output_type": "display_data"
    }
   ],
   "source": [
    "# now let's explore the data with boxplots\n",
    "\n",
    "# reorganise for plotting\n",
    "df = data.melt(id_vars=['quality'])\n",
    "\n",
    "# capture variables\n",
    "cols = df.variable.unique()\n",
    "\n",
    "# plot first 6 columns\n",
    "g = sns.axisgrid.FacetGrid(df[df.variable.isin(cols[0:6])], col='variable', sharey=False)\n",
    "g.map(sns.boxplot, 'quality','value')\n",
    "plt.show()"
   ]
  },
  {
   "cell_type": "code",
   "execution_count": 9,
   "metadata": {
    "execution": {
     "iopub.execute_input": "2021-01-23T12:18:42.469879Z",
     "iopub.status.busy": "2021-01-23T12:18:42.469173Z",
     "iopub.status.idle": "2021-01-23T12:18:43.324646Z",
     "shell.execute_reply": "2021-01-23T12:18:43.324071Z"
    },
    "papermill": {
     "duration": 0.895901,
     "end_time": "2021-01-23T12:18:43.324782",
     "exception": false,
     "start_time": "2021-01-23T12:18:42.428881",
     "status": "completed"
    },
    "tags": []
   },
   "outputs": [
    {
     "name": "stderr",
     "output_type": "stream",
     "text": [
      "C:\\Users\\Sole\\Documents\\Repositories\\envs\\fenotebook\\lib\\site-packages\\seaborn\\axisgrid.py:643: UserWarning: Using the boxplot function without specifying `order` is likely to produce an incorrect plot.\n",
      "  warnings.warn(warning)\n"
     ]
    },
    {
     "data": {
      "image/png": "[encoded data removed]",
      "text/plain": [
       "<Figure size 1080x216 with 5 Axes>"
      ]
     },
     "metadata": {
      "needs_background": "light"
     },
     "output_type": "display_data"
    }
   ],
   "source": [
    "# plot remaining columns\n",
    "g = sns.axisgrid.FacetGrid(df[df.variable.isin(cols[6:])], col='variable', sharey=False)\n",
    "g.map(sns.boxplot, 'quality','value')\n",
    "plt.show()"
   ]
  },
  {
   "cell_type": "code",
   "execution_count": 10,
   "metadata": {
    "execution": {
     "iopub.execute_input": "2021-01-23T12:18:43.414024Z",
     "iopub.status.busy": "2021-01-23T12:18:43.413098Z",
     "iopub.status.idle": "2021-01-23T12:18:43.418000Z",
     "shell.execute_reply": "2021-01-23T12:18:43.418589Z"
    },
    "papermill": {
     "duration": 0.05929,
     "end_time": "2021-01-23T12:18:43.418746",
     "exception": false,
     "start_time": "2021-01-23T12:18:43.359456",
     "status": "completed"
    },
    "tags": []
   },
   "outputs": [
    {
     "data": {
      "text/html": [
       "<div>\n",
       "<style scoped>\n",
       "    .dataframe tbody tr th:only-of-type {\n",
       "        vertical-align: middle;\n",
       "    }\n",
       "\n",
       "    .dataframe tbody tr th {\n",
       "        vertical-align: top;\n",
       "    }\n",
       "\n",
       "    .dataframe thead th {\n",
       "        text-align: right;\n",
       "    }\n",
       "</style>\n",
       "<table border=\"1\" class=\"dataframe\">\n",
       "  <thead>\n",
       "    <tr style=\"text-align: right;\">\n",
       "      <th></th>\n",
       "      <th>fixed acidity</th>\n",
       "      <th>volatile acidity</th>\n",
       "      <th>citric acid</th>\n",
       "      <th>residual sugar</th>\n",
       "      <th>chlorides</th>\n",
       "      <th>free sulfur dioxide</th>\n",
       "      <th>total sulfur dioxide</th>\n",
       "      <th>density</th>\n",
       "      <th>pH</th>\n",
       "      <th>sulphates</th>\n",
       "      <th>alcohol</th>\n",
       "      <th>quality</th>\n",
       "    </tr>\n",
       "  </thead>\n",
       "  <tbody>\n",
       "    <tr>\n",
       "      <th>0</th>\n",
       "      <td>7.4</td>\n",
       "      <td>0.70</td>\n",
       "      <td>0.00</td>\n",
       "      <td>1.9</td>\n",
       "      <td>0.076</td>\n",
       "      <td>11.0</td>\n",
       "      <td>34.0</td>\n",
       "      <td>0.9978</td>\n",
       "      <td>3.51</td>\n",
       "      <td>0.56</td>\n",
       "      <td>9.4</td>\n",
       "      <td>0</td>\n",
       "    </tr>\n",
       "    <tr>\n",
       "      <th>1</th>\n",
       "      <td>7.8</td>\n",
       "      <td>0.88</td>\n",
       "      <td>0.00</td>\n",
       "      <td>2.6</td>\n",
       "      <td>0.098</td>\n",
       "      <td>25.0</td>\n",
       "      <td>67.0</td>\n",
       "      <td>0.9968</td>\n",
       "      <td>3.20</td>\n",
       "      <td>0.68</td>\n",
       "      <td>9.8</td>\n",
       "      <td>0</td>\n",
       "    </tr>\n",
       "    <tr>\n",
       "      <th>2</th>\n",
       "      <td>7.8</td>\n",
       "      <td>0.76</td>\n",
       "      <td>0.04</td>\n",
       "      <td>2.3</td>\n",
       "      <td>0.092</td>\n",
       "      <td>15.0</td>\n",
       "      <td>54.0</td>\n",
       "      <td>0.9970</td>\n",
       "      <td>3.26</td>\n",
       "      <td>0.65</td>\n",
       "      <td>9.8</td>\n",
       "      <td>0</td>\n",
       "    </tr>\n",
       "    <tr>\n",
       "      <th>3</th>\n",
       "      <td>11.2</td>\n",
       "      <td>0.28</td>\n",
       "      <td>0.56</td>\n",
       "      <td>1.9</td>\n",
       "      <td>0.075</td>\n",
       "      <td>17.0</td>\n",
       "      <td>60.0</td>\n",
       "      <td>0.9980</td>\n",
       "      <td>3.16</td>\n",
       "      <td>0.58</td>\n",
       "      <td>9.8</td>\n",
       "      <td>0</td>\n",
       "    </tr>\n",
       "    <tr>\n",
       "      <th>4</th>\n",
       "      <td>7.4</td>\n",
       "      <td>0.70</td>\n",
       "      <td>0.00</td>\n",
       "      <td>1.9</td>\n",
       "      <td>0.076</td>\n",
       "      <td>11.0</td>\n",
       "      <td>34.0</td>\n",
       "      <td>0.9978</td>\n",
       "      <td>3.51</td>\n",
       "      <td>0.56</td>\n",
       "      <td>9.4</td>\n",
       "      <td>0</td>\n",
       "    </tr>\n",
       "  </tbody>\n",
       "</table>\n",
       "</div>"
      ],
      "text/plain": [
       "   fixed acidity  volatile acidity  citric acid  residual sugar  chlorides  \\\n",
       "0            7.4              0.70         0.00             1.9      0.076   \n",
       "1            7.8              0.88         0.00             2.6      0.098   \n",
       "2            7.8              0.76         0.04             2.3      0.092   \n",
       "3           11.2              0.28         0.56             1.9      0.075   \n",
       "4            7.4              0.70         0.00             1.9      0.076   \n",
       "\n",
       "   free sulfur dioxide  total sulfur dioxide  density    pH  sulphates  \\\n",
       "0                 11.0                  34.0   0.9978  3.51       0.56   \n",
       "1                 25.0                  67.0   0.9968  3.20       0.68   \n",
       "2                 15.0                  54.0   0.9970  3.26       0.65   \n",
       "3                 17.0                  60.0   0.9980  3.16       0.58   \n",
       "4                 11.0                  34.0   0.9978  3.51       0.56   \n",
       "\n",
       "   alcohol  quality  \n",
       "0      9.4        0  \n",
       "1      9.8        0  \n",
       "2      9.8        0  \n",
       "3      9.8        0  \n",
       "4      9.4        0  "
      ]
     },
     "execution_count": 10,
     "metadata": {},
     "output_type": "execute_result"
    }
   ],
   "source": [
    "data.head()"
   ]
  },
  {
   "cell_type": "code",
   "execution_count": 11,
   "metadata": {
    "execution": {
     "iopub.execute_input": "2021-01-23T12:18:43.502924Z",
     "iopub.status.busy": "2021-01-23T12:18:43.497433Z",
     "iopub.status.idle": "2021-01-23T12:18:43.818177Z",
     "shell.execute_reply": "2021-01-23T12:18:43.818713Z"
    },
    "papermill": {
     "duration": 0.363926,
     "end_time": "2021-01-23T12:18:43.818877",
     "exception": false,
     "start_time": "2021-01-23T12:18:43.454951",
     "status": "completed"
    },
    "tags": []
   },
   "outputs": [
    {
     "data": {
      "image/png": "[encoded data removed]",
      "text/plain": [
       "<Figure size 432x288 with 1 Axes>"
      ]
     },
     "metadata": {
      "needs_background": "light"
     },
     "output_type": "display_data"
    }
   ],
   "source": [
    "# the citric acid affects the pH of the wine\n",
    "\n",
    "plt.scatter(data['citric acid'], data['pH'], c=data['quality'])\n",
    "plt.xlabel('Citric acid')\n",
    "plt.ylabel('pH')\n",
    "plt.show()"
   ]
  },
  {
   "cell_type": "code",
   "execution_count": 12,
   "metadata": {
    "execution": {
     "iopub.execute_input": "2021-01-23T12:18:43.897422Z",
     "iopub.status.busy": "2021-01-23T12:18:43.896626Z",
     "iopub.status.idle": "2021-01-23T12:18:44.094315Z",
     "shell.execute_reply": "2021-01-23T12:18:44.094821Z"
    },
    "papermill": {
     "duration": 0.238164,
     "end_time": "2021-01-23T12:18:44.094975",
     "exception": false,
     "start_time": "2021-01-23T12:18:43.856811",
     "status": "completed"
    },
    "tags": []
   },
   "outputs": [
    {
     "data": {
      "image/png": "[encoded data removed]",
      "text/plain": [
       "<Figure size 432x288 with 1 Axes>"
      ]
     },
     "metadata": {
      "needs_background": "light"
     },
     "output_type": "display_data"
    }
   ],
   "source": [
    "# the sulphates may affect the pH of the wine\n",
    "\n",
    "plt.scatter(data['sulphates'], data['pH'], c=data['quality'])\n",
    "plt.xlabel('sulphates')\n",
    "plt.ylabel('pH')\n",
    "plt.show()"
   ]
  },
  {
   "cell_type": "code",
   "execution_count": 13,
   "metadata": {
    "execution": {
     "iopub.execute_input": "2021-01-23T12:18:44.181205Z",
     "iopub.status.busy": "2021-01-23T12:18:44.180460Z",
     "iopub.status.idle": "2021-01-23T12:18:44.374868Z",
     "shell.execute_reply": "2021-01-23T12:18:44.375362Z"
    },
    "papermill": {
     "duration": 0.241747,
     "end_time": "2021-01-23T12:18:44.375518",
     "exception": false,
     "start_time": "2021-01-23T12:18:44.133771",
     "status": "completed"
    },
    "tags": []
   },
   "outputs": [
    {
     "data": {
      "image/png": "[encoded data removed]",
      "text/plain": [
       "<Figure size 432x288 with 1 Axes>"
      ]
     },
     "metadata": {
      "needs_background": "light"
     },
     "output_type": "display_data"
    }
   ],
   "source": [
    "plt.scatter(data['sulphates'], data['citric acid'], c=data['quality'])\n",
    "plt.xlabel('sulphates')\n",
    "plt.ylabel('citric acid')\n",
    "plt.show()"
   ]
  },
  {
   "cell_type": "markdown",
   "metadata": {
    "papermill": {
     "duration": 0.039476,
     "end_time": "2021-01-23T12:18:44.454965",
     "exception": false,
     "start_time": "2021-01-23T12:18:44.415489",
     "status": "completed"
    },
    "tags": []
   },
   "source": [
    "Good quality wine tend to have more citric acid and more sulphate, thus similar pH."
   ]
  },
  {
   "cell_type": "code",
   "execution_count": 14,
   "metadata": {
    "execution": {
     "iopub.execute_input": "2021-01-23T12:18:44.538786Z",
     "iopub.status.busy": "2021-01-23T12:18:44.538024Z",
     "iopub.status.idle": "2021-01-23T12:18:45.932422Z",
     "shell.execute_reply": "2021-01-23T12:18:45.931871Z"
    },
    "papermill": {
     "duration": 1.437649,
     "end_time": "2021-01-23T12:18:45.932539",
     "exception": false,
     "start_time": "2021-01-23T12:18:44.494890",
     "status": "completed"
    },
    "tags": []
   },
   "outputs": [
    {
     "data": {
      "image/png": "[encoded data removed]",
      "text/plain": [
       "<Figure size 720x180 with 4 Axes>"
      ]
     },
     "metadata": {
      "needs_background": "light"
     },
     "output_type": "display_data"
    }
   ],
   "source": [
    "# let's evaluate the relationship between some molecules and the density of the wine\n",
    "\n",
    "g = sns.PairGrid(data, y_vars=[\"density\"], x_vars=['chlorides','sulphates', 'residual sugar', 'alcohol'])\n",
    "g.map(sns.regplot)\n",
    "plt.show()"
   ]
  },
  {
   "cell_type": "markdown",
   "metadata": {
    "papermill": {
     "duration": 0.042804,
     "end_time": "2021-01-23T12:18:46.017173",
     "exception": false,
     "start_time": "2021-01-23T12:18:45.974369",
     "status": "completed"
    },
    "tags": []
   },
   "source": [
    "## Create additional variables\n",
    "\n",
    "Let's combine variables into new ones to capture additional information."
   ]
  },
  {
   "cell_type": "code",
   "execution_count": 15,
   "metadata": {
    "execution": {
     "iopub.execute_input": "2021-01-23T12:18:46.123152Z",
     "iopub.status.busy": "2021-01-23T12:18:46.122063Z",
     "iopub.status.idle": "2021-01-23T12:18:46.150621Z",
     "shell.execute_reply": "2021-01-23T12:18:46.151096Z"
    },
    "papermill": {
     "duration": 0.092392,
     "end_time": "2021-01-23T12:18:46.151244",
     "exception": false,
     "start_time": "2021-01-23T12:18:46.058852",
     "status": "completed"
    },
    "tags": []
   },
   "outputs": [
    {
     "data": {
      "text/html": [
       "<div>\n",
       "<style scoped>\n",
       "    .dataframe tbody tr th:only-of-type {\n",
       "        vertical-align: middle;\n",
       "    }\n",
       "\n",
       "    .dataframe tbody tr th {\n",
       "        vertical-align: top;\n",
       "    }\n",
       "\n",
       "    .dataframe thead th {\n",
       "        text-align: right;\n",
       "    }\n",
       "</style>\n",
       "<table border=\"1\" class=\"dataframe\">\n",
       "  <thead>\n",
       "    <tr style=\"text-align: right;\">\n",
       "      <th></th>\n",
       "      <th>fixed acidity</th>\n",
       "      <th>volatile acidity</th>\n",
       "      <th>citric acid</th>\n",
       "      <th>residual sugar</th>\n",
       "      <th>chlorides</th>\n",
       "      <th>free sulfur dioxide</th>\n",
       "      <th>total sulfur dioxide</th>\n",
       "      <th>density</th>\n",
       "      <th>pH</th>\n",
       "      <th>sulphates</th>\n",
       "      <th>alcohol</th>\n",
       "      <th>quality</th>\n",
       "      <th>total_acidity</th>\n",
       "      <th>average_acidity</th>\n",
       "    </tr>\n",
       "  </thead>\n",
       "  <tbody>\n",
       "    <tr>\n",
       "      <th>0</th>\n",
       "      <td>7.4</td>\n",
       "      <td>0.70</td>\n",
       "      <td>0.00</td>\n",
       "      <td>1.9</td>\n",
       "      <td>0.076</td>\n",
       "      <td>11.0</td>\n",
       "      <td>34.0</td>\n",
       "      <td>0.9978</td>\n",
       "      <td>3.51</td>\n",
       "      <td>0.56</td>\n",
       "      <td>9.4</td>\n",
       "      <td>0</td>\n",
       "      <td>8.10</td>\n",
       "      <td>4.05</td>\n",
       "    </tr>\n",
       "    <tr>\n",
       "      <th>1</th>\n",
       "      <td>7.8</td>\n",
       "      <td>0.88</td>\n",
       "      <td>0.00</td>\n",
       "      <td>2.6</td>\n",
       "      <td>0.098</td>\n",
       "      <td>25.0</td>\n",
       "      <td>67.0</td>\n",
       "      <td>0.9968</td>\n",
       "      <td>3.20</td>\n",
       "      <td>0.68</td>\n",
       "      <td>9.8</td>\n",
       "      <td>0</td>\n",
       "      <td>8.68</td>\n",
       "      <td>4.34</td>\n",
       "    </tr>\n",
       "    <tr>\n",
       "      <th>2</th>\n",
       "      <td>7.8</td>\n",
       "      <td>0.76</td>\n",
       "      <td>0.04</td>\n",
       "      <td>2.3</td>\n",
       "      <td>0.092</td>\n",
       "      <td>15.0</td>\n",
       "      <td>54.0</td>\n",
       "      <td>0.9970</td>\n",
       "      <td>3.26</td>\n",
       "      <td>0.65</td>\n",
       "      <td>9.8</td>\n",
       "      <td>0</td>\n",
       "      <td>8.56</td>\n",
       "      <td>4.28</td>\n",
       "    </tr>\n",
       "    <tr>\n",
       "      <th>3</th>\n",
       "      <td>11.2</td>\n",
       "      <td>0.28</td>\n",
       "      <td>0.56</td>\n",
       "      <td>1.9</td>\n",
       "      <td>0.075</td>\n",
       "      <td>17.0</td>\n",
       "      <td>60.0</td>\n",
       "      <td>0.9980</td>\n",
       "      <td>3.16</td>\n",
       "      <td>0.58</td>\n",
       "      <td>9.8</td>\n",
       "      <td>0</td>\n",
       "      <td>11.48</td>\n",
       "      <td>5.74</td>\n",
       "    </tr>\n",
       "    <tr>\n",
       "      <th>4</th>\n",
       "      <td>7.4</td>\n",
       "      <td>0.70</td>\n",
       "      <td>0.00</td>\n",
       "      <td>1.9</td>\n",
       "      <td>0.076</td>\n",
       "      <td>11.0</td>\n",
       "      <td>34.0</td>\n",
       "      <td>0.9978</td>\n",
       "      <td>3.51</td>\n",
       "      <td>0.56</td>\n",
       "      <td>9.4</td>\n",
       "      <td>0</td>\n",
       "      <td>8.10</td>\n",
       "      <td>4.05</td>\n",
       "    </tr>\n",
       "  </tbody>\n",
       "</table>\n",
       "</div>"
      ],
      "text/plain": [
       "   fixed acidity  volatile acidity  citric acid  residual sugar  chlorides  \\\n",
       "0            7.4              0.70         0.00             1.9      0.076   \n",
       "1            7.8              0.88         0.00             2.6      0.098   \n",
       "2            7.8              0.76         0.04             2.3      0.092   \n",
       "3           11.2              0.28         0.56             1.9      0.075   \n",
       "4            7.4              0.70         0.00             1.9      0.076   \n",
       "\n",
       "   free sulfur dioxide  total sulfur dioxide  density    pH  sulphates  \\\n",
       "0                 11.0                  34.0   0.9978  3.51       0.56   \n",
       "1                 25.0                  67.0   0.9968  3.20       0.68   \n",
       "2                 15.0                  54.0   0.9970  3.26       0.65   \n",
       "3                 17.0                  60.0   0.9980  3.16       0.58   \n",
       "4                 11.0                  34.0   0.9978  3.51       0.56   \n",
       "\n",
       "   alcohol  quality  total_acidity  average_acidity  \n",
       "0      9.4        0           8.10             4.05  \n",
       "1      9.8        0           8.68             4.34  \n",
       "2      9.8        0           8.56             4.28  \n",
       "3      9.8        0          11.48             5.74  \n",
       "4      9.4        0           8.10             4.05  "
      ]
     },
     "execution_count": 15,
     "metadata": {},
     "output_type": "execute_result"
    }
   ],
   "source": [
    "# combine fixed and volatile acidity to create total acidity\n",
    "# and mean acidity\n",
    "\n",
    "combinator = MathematicalCombination(\n",
    "    variables_to_combine=['fixed acidity', 'volatile acidity'],\n",
    "    math_operations = ['sum', 'mean'],\n",
    "    new_variables_names = ['total_acidity', 'average_acidity']\n",
    ")\n",
    "\n",
    "data = combinator.fit_transform(data)\n",
    "\n",
    "# note the new variables at the end of the dataframe\n",
    "data.head()"
   ]
  },
  {
   "cell_type": "code",
   "execution_count": 16,
   "metadata": {
    "execution": {
     "iopub.execute_input": "2021-01-23T12:18:46.246874Z",
     "iopub.status.busy": "2021-01-23T12:18:46.243175Z",
     "iopub.status.idle": "2021-01-23T12:18:46.287760Z",
     "shell.execute_reply": "2021-01-23T12:18:46.288288Z"
    },
    "papermill": {
     "duration": 0.094764,
     "end_time": "2021-01-23T12:18:46.288441",
     "exception": false,
     "start_time": "2021-01-23T12:18:46.193677",
     "status": "completed"
    },
    "tags": []
   },
   "outputs": [
    {
     "data": {
      "text/html": [
       "<div>\n",
       "<style scoped>\n",
       "    .dataframe tbody tr th:only-of-type {\n",
       "        vertical-align: middle;\n",
       "    }\n",
       "\n",
       "    .dataframe tbody tr th {\n",
       "        vertical-align: top;\n",
       "    }\n",
       "\n",
       "    .dataframe thead th {\n",
       "        text-align: right;\n",
       "    }\n",
       "</style>\n",
       "<table border=\"1\" class=\"dataframe\">\n",
       "  <thead>\n",
       "    <tr style=\"text-align: right;\">\n",
       "      <th></th>\n",
       "      <th>fixed acidity</th>\n",
       "      <th>volatile acidity</th>\n",
       "      <th>citric acid</th>\n",
       "      <th>residual sugar</th>\n",
       "      <th>chlorides</th>\n",
       "      <th>free sulfur dioxide</th>\n",
       "      <th>total sulfur dioxide</th>\n",
       "      <th>density</th>\n",
       "      <th>pH</th>\n",
       "      <th>sulphates</th>\n",
       "      <th>alcohol</th>\n",
       "      <th>quality</th>\n",
       "      <th>total_acidity</th>\n",
       "      <th>average_acidity</th>\n",
       "      <th>total_minerals</th>\n",
       "      <th>average_minerals</th>\n",
       "    </tr>\n",
       "  </thead>\n",
       "  <tbody>\n",
       "    <tr>\n",
       "      <th>0</th>\n",
       "      <td>7.4</td>\n",
       "      <td>0.70</td>\n",
       "      <td>0.00</td>\n",
       "      <td>1.9</td>\n",
       "      <td>0.076</td>\n",
       "      <td>11.0</td>\n",
       "      <td>34.0</td>\n",
       "      <td>0.9978</td>\n",
       "      <td>3.51</td>\n",
       "      <td>0.56</td>\n",
       "      <td>9.4</td>\n",
       "      <td>0</td>\n",
       "      <td>8.10</td>\n",
       "      <td>4.05</td>\n",
       "      <td>0.636</td>\n",
       "      <td>0.3180</td>\n",
       "    </tr>\n",
       "    <tr>\n",
       "      <th>1</th>\n",
       "      <td>7.8</td>\n",
       "      <td>0.88</td>\n",
       "      <td>0.00</td>\n",
       "      <td>2.6</td>\n",
       "      <td>0.098</td>\n",
       "      <td>25.0</td>\n",
       "      <td>67.0</td>\n",
       "      <td>0.9968</td>\n",
       "      <td>3.20</td>\n",
       "      <td>0.68</td>\n",
       "      <td>9.8</td>\n",
       "      <td>0</td>\n",
       "      <td>8.68</td>\n",
       "      <td>4.34</td>\n",
       "      <td>0.778</td>\n",
       "      <td>0.3890</td>\n",
       "    </tr>\n",
       "    <tr>\n",
       "      <th>2</th>\n",
       "      <td>7.8</td>\n",
       "      <td>0.76</td>\n",
       "      <td>0.04</td>\n",
       "      <td>2.3</td>\n",
       "      <td>0.092</td>\n",
       "      <td>15.0</td>\n",
       "      <td>54.0</td>\n",
       "      <td>0.9970</td>\n",
       "      <td>3.26</td>\n",
       "      <td>0.65</td>\n",
       "      <td>9.8</td>\n",
       "      <td>0</td>\n",
       "      <td>8.56</td>\n",
       "      <td>4.28</td>\n",
       "      <td>0.742</td>\n",
       "      <td>0.3710</td>\n",
       "    </tr>\n",
       "    <tr>\n",
       "      <th>3</th>\n",
       "      <td>11.2</td>\n",
       "      <td>0.28</td>\n",
       "      <td>0.56</td>\n",
       "      <td>1.9</td>\n",
       "      <td>0.075</td>\n",
       "      <td>17.0</td>\n",
       "      <td>60.0</td>\n",
       "      <td>0.9980</td>\n",
       "      <td>3.16</td>\n",
       "      <td>0.58</td>\n",
       "      <td>9.8</td>\n",
       "      <td>0</td>\n",
       "      <td>11.48</td>\n",
       "      <td>5.74</td>\n",
       "      <td>0.655</td>\n",
       "      <td>0.3275</td>\n",
       "    </tr>\n",
       "    <tr>\n",
       "      <th>4</th>\n",
       "      <td>7.4</td>\n",
       "      <td>0.70</td>\n",
       "      <td>0.00</td>\n",
       "      <td>1.9</td>\n",
       "      <td>0.076</td>\n",
       "      <td>11.0</td>\n",
       "      <td>34.0</td>\n",
       "      <td>0.9978</td>\n",
       "      <td>3.51</td>\n",
       "      <td>0.56</td>\n",
       "      <td>9.4</td>\n",
       "      <td>0</td>\n",
       "      <td>8.10</td>\n",
       "      <td>4.05</td>\n",
       "      <td>0.636</td>\n",
       "      <td>0.3180</td>\n",
       "    </tr>\n",
       "  </tbody>\n",
       "</table>\n",
       "</div>"
      ],
      "text/plain": [
       "   fixed acidity  volatile acidity  citric acid  residual sugar  chlorides  \\\n",
       "0            7.4              0.70         0.00             1.9      0.076   \n",
       "1            7.8              0.88         0.00             2.6      0.098   \n",
       "2            7.8              0.76         0.04             2.3      0.092   \n",
       "3           11.2              0.28         0.56             1.9      0.075   \n",
       "4            7.4              0.70         0.00             1.9      0.076   \n",
       "\n",
       "   free sulfur dioxide  total sulfur dioxide  density    pH  sulphates  \\\n",
       "0                 11.0                  34.0   0.9978  3.51       0.56   \n",
       "1                 25.0                  67.0   0.9968  3.20       0.68   \n",
       "2                 15.0                  54.0   0.9970  3.26       0.65   \n",
       "3                 17.0                  60.0   0.9980  3.16       0.58   \n",
       "4                 11.0                  34.0   0.9978  3.51       0.56   \n",
       "\n",
       "   alcohol  quality  total_acidity  average_acidity  total_minerals  \\\n",
       "0      9.4        0           8.10             4.05           0.636   \n",
       "1      9.8        0           8.68             4.34           0.778   \n",
       "2      9.8        0           8.56             4.28           0.742   \n",
       "3      9.8        0          11.48             5.74           0.655   \n",
       "4      9.4        0           8.10             4.05           0.636   \n",
       "\n",
       "   average_minerals  \n",
       "0            0.3180  \n",
       "1            0.3890  \n",
       "2            0.3710  \n",
       "3            0.3275  \n",
       "4            0.3180  "
      ]
     },
     "execution_count": 16,
     "metadata": {},
     "output_type": "execute_result"
    }
   ],
   "source": [
    "# let's combine salts into total minerals and average minerals\n",
    "\n",
    "combinator = MathematicalCombination(\n",
    "    variables_to_combine=['chlorides', 'sulphates'],\n",
    "    math_operations = ['sum', 'mean'],\n",
    "    new_variables_names = ['total_minerals', 'average_minerals']\n",
    ")\n",
    "\n",
    "data = combinator.fit_transform(data)\n",
    "\n",
    "# note the new variable at the end of the dataframe\n",
    "data.head()"
   ]
  },
  {
   "cell_type": "code",
   "execution_count": 17,
   "metadata": {
    "execution": {
     "iopub.execute_input": "2021-01-23T12:18:46.377854Z",
     "iopub.status.busy": "2021-01-23T12:18:46.377089Z",
     "iopub.status.idle": "2021-01-23T12:18:46.409562Z",
     "shell.execute_reply": "2021-01-23T12:18:46.408992Z"
    },
    "papermill": {
     "duration": 0.078286,
     "end_time": "2021-01-23T12:18:46.409696",
     "exception": false,
     "start_time": "2021-01-23T12:18:46.331410",
     "status": "completed"
    },
    "tags": []
   },
   "outputs": [
    {
     "data": {
      "text/html": [
       "<div>\n",
       "<style scoped>\n",
       "    .dataframe tbody tr th:only-of-type {\n",
       "        vertical-align: middle;\n",
       "    }\n",
       "\n",
       "    .dataframe tbody tr th {\n",
       "        vertical-align: top;\n",
       "    }\n",
       "\n",
       "    .dataframe thead th {\n",
       "        text-align: right;\n",
       "    }\n",
       "</style>\n",
       "<table border=\"1\" class=\"dataframe\">\n",
       "  <thead>\n",
       "    <tr style=\"text-align: right;\">\n",
       "      <th></th>\n",
       "      <th>fixed acidity</th>\n",
       "      <th>volatile acidity</th>\n",
       "      <th>citric acid</th>\n",
       "      <th>residual sugar</th>\n",
       "      <th>chlorides</th>\n",
       "      <th>free sulfur dioxide</th>\n",
       "      <th>total sulfur dioxide</th>\n",
       "      <th>density</th>\n",
       "      <th>pH</th>\n",
       "      <th>sulphates</th>\n",
       "      <th>alcohol</th>\n",
       "      <th>quality</th>\n",
       "      <th>total_acidity</th>\n",
       "      <th>average_acidity</th>\n",
       "      <th>total_minerals</th>\n",
       "      <th>average_minerals</th>\n",
       "      <th>non_free_sulfur_dioxide</th>\n",
       "    </tr>\n",
       "  </thead>\n",
       "  <tbody>\n",
       "    <tr>\n",
       "      <th>0</th>\n",
       "      <td>7.4</td>\n",
       "      <td>0.70</td>\n",
       "      <td>0.00</td>\n",
       "      <td>1.9</td>\n",
       "      <td>0.076</td>\n",
       "      <td>11.0</td>\n",
       "      <td>34.0</td>\n",
       "      <td>0.9978</td>\n",
       "      <td>3.51</td>\n",
       "      <td>0.56</td>\n",
       "      <td>9.4</td>\n",
       "      <td>0</td>\n",
       "      <td>8.10</td>\n",
       "      <td>4.05</td>\n",
       "      <td>0.636</td>\n",
       "      <td>0.3180</td>\n",
       "      <td>23.0</td>\n",
       "    </tr>\n",
       "    <tr>\n",
       "      <th>1</th>\n",
       "      <td>7.8</td>\n",
       "      <td>0.88</td>\n",
       "      <td>0.00</td>\n",
       "      <td>2.6</td>\n",
       "      <td>0.098</td>\n",
       "      <td>25.0</td>\n",
       "      <td>67.0</td>\n",
       "      <td>0.9968</td>\n",
       "      <td>3.20</td>\n",
       "      <td>0.68</td>\n",
       "      <td>9.8</td>\n",
       "      <td>0</td>\n",
       "      <td>8.68</td>\n",
       "      <td>4.34</td>\n",
       "      <td>0.778</td>\n",
       "      <td>0.3890</td>\n",
       "      <td>42.0</td>\n",
       "    </tr>\n",
       "    <tr>\n",
       "      <th>2</th>\n",
       "      <td>7.8</td>\n",
       "      <td>0.76</td>\n",
       "      <td>0.04</td>\n",
       "      <td>2.3</td>\n",
       "      <td>0.092</td>\n",
       "      <td>15.0</td>\n",
       "      <td>54.0</td>\n",
       "      <td>0.9970</td>\n",
       "      <td>3.26</td>\n",
       "      <td>0.65</td>\n",
       "      <td>9.8</td>\n",
       "      <td>0</td>\n",
       "      <td>8.56</td>\n",
       "      <td>4.28</td>\n",
       "      <td>0.742</td>\n",
       "      <td>0.3710</td>\n",
       "      <td>39.0</td>\n",
       "    </tr>\n",
       "    <tr>\n",
       "      <th>3</th>\n",
       "      <td>11.2</td>\n",
       "      <td>0.28</td>\n",
       "      <td>0.56</td>\n",
       "      <td>1.9</td>\n",
       "      <td>0.075</td>\n",
       "      <td>17.0</td>\n",
       "      <td>60.0</td>\n",
       "      <td>0.9980</td>\n",
       "      <td>3.16</td>\n",
       "      <td>0.58</td>\n",
       "      <td>9.8</td>\n",
       "      <td>0</td>\n",
       "      <td>11.48</td>\n",
       "      <td>5.74</td>\n",
       "      <td>0.655</td>\n",
       "      <td>0.3275</td>\n",
       "      <td>43.0</td>\n",
       "    </tr>\n",
       "    <tr>\n",
       "      <th>4</th>\n",
       "      <td>7.4</td>\n",
       "      <td>0.70</td>\n",
       "      <td>0.00</td>\n",
       "      <td>1.9</td>\n",
       "      <td>0.076</td>\n",
       "      <td>11.0</td>\n",
       "      <td>34.0</td>\n",
       "      <td>0.9978</td>\n",
       "      <td>3.51</td>\n",
       "      <td>0.56</td>\n",
       "      <td>9.4</td>\n",
       "      <td>0</td>\n",
       "      <td>8.10</td>\n",
       "      <td>4.05</td>\n",
       "      <td>0.636</td>\n",
       "      <td>0.3180</td>\n",
       "      <td>23.0</td>\n",
       "    </tr>\n",
       "  </tbody>\n",
       "</table>\n",
       "</div>"
      ],
      "text/plain": [
       "   fixed acidity  volatile acidity  citric acid  residual sugar  chlorides  \\\n",
       "0            7.4              0.70         0.00             1.9      0.076   \n",
       "1            7.8              0.88         0.00             2.6      0.098   \n",
       "2            7.8              0.76         0.04             2.3      0.092   \n",
       "3           11.2              0.28         0.56             1.9      0.075   \n",
       "4            7.4              0.70         0.00             1.9      0.076   \n",
       "\n",
       "   free sulfur dioxide  total sulfur dioxide  density    pH  sulphates  \\\n",
       "0                 11.0                  34.0   0.9978  3.51       0.56   \n",
       "1                 25.0                  67.0   0.9968  3.20       0.68   \n",
       "2                 15.0                  54.0   0.9970  3.26       0.65   \n",
       "3                 17.0                  60.0   0.9980  3.16       0.58   \n",
       "4                 11.0                  34.0   0.9978  3.51       0.56   \n",
       "\n",
       "   alcohol  quality  total_acidity  average_acidity  total_minerals  \\\n",
       "0      9.4        0           8.10             4.05           0.636   \n",
       "1      9.8        0           8.68             4.34           0.778   \n",
       "2      9.8        0           8.56             4.28           0.742   \n",
       "3      9.8        0          11.48             5.74           0.655   \n",
       "4      9.4        0           8.10             4.05           0.636   \n",
       "\n",
       "   average_minerals  non_free_sulfur_dioxide  \n",
       "0            0.3180                     23.0  \n",
       "1            0.3890                     42.0  \n",
       "2            0.3710                     39.0  \n",
       "3            0.3275                     43.0  \n",
       "4            0.3180                     23.0  "
      ]
     },
     "execution_count": 17,
     "metadata": {},
     "output_type": "execute_result"
    }
   ],
   "source": [
    "# let's determine the sulfur that is not free\n",
    "\n",
    "combinator = CombineWithReferenceFeature(\n",
    "    variables_to_combine=['total sulfur dioxide'],\n",
    "    reference_variables=['free sulfur dioxide'],\n",
    "    operations=['sub'],\n",
    "    new_variables_names=['non_free_sulfur_dioxide']\n",
    ")\n",
    "\n",
    "data = combinator.fit_transform(data)\n",
    "\n",
    "# note the new variable at the end of the dataframe\n",
    "data.head()"
   ]
  },
  {
   "cell_type": "code",
   "execution_count": 18,
   "metadata": {
    "execution": {
     "iopub.execute_input": "2021-01-23T12:18:46.500945Z",
     "iopub.status.busy": "2021-01-23T12:18:46.500162Z",
     "iopub.status.idle": "2021-01-23T12:18:46.533085Z",
     "shell.execute_reply": "2021-01-23T12:18:46.533646Z"
    },
    "papermill": {
     "duration": 0.080649,
     "end_time": "2021-01-23T12:18:46.533797",
     "exception": false,
     "start_time": "2021-01-23T12:18:46.453148",
     "status": "completed"
    },
    "tags": []
   },
   "outputs": [
    {
     "data": {
      "text/html": [
       "<div>\n",
       "<style scoped>\n",
       "    .dataframe tbody tr th:only-of-type {\n",
       "        vertical-align: middle;\n",
       "    }\n",
       "\n",
       "    .dataframe tbody tr th {\n",
       "        vertical-align: top;\n",
       "    }\n",
       "\n",
       "    .dataframe thead th {\n",
       "        text-align: right;\n",
       "    }\n",
       "</style>\n",
       "<table border=\"1\" class=\"dataframe\">\n",
       "  <thead>\n",
       "    <tr style=\"text-align: right;\">\n",
       "      <th></th>\n",
       "      <th>fixed acidity</th>\n",
       "      <th>volatile acidity</th>\n",
       "      <th>citric acid</th>\n",
       "      <th>residual sugar</th>\n",
       "      <th>chlorides</th>\n",
       "      <th>free sulfur dioxide</th>\n",
       "      <th>total sulfur dioxide</th>\n",
       "      <th>density</th>\n",
       "      <th>pH</th>\n",
       "      <th>sulphates</th>\n",
       "      <th>alcohol</th>\n",
       "      <th>quality</th>\n",
       "      <th>total_acidity</th>\n",
       "      <th>average_acidity</th>\n",
       "      <th>total_minerals</th>\n",
       "      <th>average_minerals</th>\n",
       "      <th>non_free_sulfur_dioxide</th>\n",
       "      <th>percentage_free_sulfur</th>\n",
       "    </tr>\n",
       "  </thead>\n",
       "  <tbody>\n",
       "    <tr>\n",
       "      <th>0</th>\n",
       "      <td>7.4</td>\n",
       "      <td>0.70</td>\n",
       "      <td>0.00</td>\n",
       "      <td>1.9</td>\n",
       "      <td>0.076</td>\n",
       "      <td>11.0</td>\n",
       "      <td>34.0</td>\n",
       "      <td>0.9978</td>\n",
       "      <td>3.51</td>\n",
       "      <td>0.56</td>\n",
       "      <td>9.4</td>\n",
       "      <td>0</td>\n",
       "      <td>8.10</td>\n",
       "      <td>4.05</td>\n",
       "      <td>0.636</td>\n",
       "      <td>0.3180</td>\n",
       "      <td>23.0</td>\n",
       "      <td>0.323529</td>\n",
       "    </tr>\n",
       "    <tr>\n",
       "      <th>1</th>\n",
       "      <td>7.8</td>\n",
       "      <td>0.88</td>\n",
       "      <td>0.00</td>\n",
       "      <td>2.6</td>\n",
       "      <td>0.098</td>\n",
       "      <td>25.0</td>\n",
       "      <td>67.0</td>\n",
       "      <td>0.9968</td>\n",
       "      <td>3.20</td>\n",
       "      <td>0.68</td>\n",
       "      <td>9.8</td>\n",
       "      <td>0</td>\n",
       "      <td>8.68</td>\n",
       "      <td>4.34</td>\n",
       "      <td>0.778</td>\n",
       "      <td>0.3890</td>\n",
       "      <td>42.0</td>\n",
       "      <td>0.373134</td>\n",
       "    </tr>\n",
       "    <tr>\n",
       "      <th>2</th>\n",
       "      <td>7.8</td>\n",
       "      <td>0.76</td>\n",
       "      <td>0.04</td>\n",
       "      <td>2.3</td>\n",
       "      <td>0.092</td>\n",
       "      <td>15.0</td>\n",
       "      <td>54.0</td>\n",
       "      <td>0.9970</td>\n",
       "      <td>3.26</td>\n",
       "      <td>0.65</td>\n",
       "      <td>9.8</td>\n",
       "      <td>0</td>\n",
       "      <td>8.56</td>\n",
       "      <td>4.28</td>\n",
       "      <td>0.742</td>\n",
       "      <td>0.3710</td>\n",
       "      <td>39.0</td>\n",
       "      <td>0.277778</td>\n",
       "    </tr>\n",
       "    <tr>\n",
       "      <th>3</th>\n",
       "      <td>11.2</td>\n",
       "      <td>0.28</td>\n",
       "      <td>0.56</td>\n",
       "      <td>1.9</td>\n",
       "      <td>0.075</td>\n",
       "      <td>17.0</td>\n",
       "      <td>60.0</td>\n",
       "      <td>0.9980</td>\n",
       "      <td>3.16</td>\n",
       "      <td>0.58</td>\n",
       "      <td>9.8</td>\n",
       "      <td>0</td>\n",
       "      <td>11.48</td>\n",
       "      <td>5.74</td>\n",
       "      <td>0.655</td>\n",
       "      <td>0.3275</td>\n",
       "      <td>43.0</td>\n",
       "      <td>0.283333</td>\n",
       "    </tr>\n",
       "    <tr>\n",
       "      <th>4</th>\n",
       "      <td>7.4</td>\n",
       "      <td>0.70</td>\n",
       "      <td>0.00</td>\n",
       "      <td>1.9</td>\n",
       "      <td>0.076</td>\n",
       "      <td>11.0</td>\n",
       "      <td>34.0</td>\n",
       "      <td>0.9978</td>\n",
       "      <td>3.51</td>\n",
       "      <td>0.56</td>\n",
       "      <td>9.4</td>\n",
       "      <td>0</td>\n",
       "      <td>8.10</td>\n",
       "      <td>4.05</td>\n",
       "      <td>0.636</td>\n",
       "      <td>0.3180</td>\n",
       "      <td>23.0</td>\n",
       "      <td>0.323529</td>\n",
       "    </tr>\n",
       "  </tbody>\n",
       "</table>\n",
       "</div>"
      ],
      "text/plain": [
       "   fixed acidity  volatile acidity  citric acid  residual sugar  chlorides  \\\n",
       "0            7.4              0.70         0.00             1.9      0.076   \n",
       "1            7.8              0.88         0.00             2.6      0.098   \n",
       "2            7.8              0.76         0.04             2.3      0.092   \n",
       "3           11.2              0.28         0.56             1.9      0.075   \n",
       "4            7.4              0.70         0.00             1.9      0.076   \n",
       "\n",
       "   free sulfur dioxide  total sulfur dioxide  density    pH  sulphates  \\\n",
       "0                 11.0                  34.0   0.9978  3.51       0.56   \n",
       "1                 25.0                  67.0   0.9968  3.20       0.68   \n",
       "2                 15.0                  54.0   0.9970  3.26       0.65   \n",
       "3                 17.0                  60.0   0.9980  3.16       0.58   \n",
       "4                 11.0                  34.0   0.9978  3.51       0.56   \n",
       "\n",
       "   alcohol  quality  total_acidity  average_acidity  total_minerals  \\\n",
       "0      9.4        0           8.10             4.05           0.636   \n",
       "1      9.8        0           8.68             4.34           0.778   \n",
       "2      9.8        0           8.56             4.28           0.742   \n",
       "3      9.8        0          11.48             5.74           0.655   \n",
       "4      9.4        0           8.10             4.05           0.636   \n",
       "\n",
       "   average_minerals  non_free_sulfur_dioxide  percentage_free_sulfur  \n",
       "0            0.3180                     23.0                0.323529  \n",
       "1            0.3890                     42.0                0.373134  \n",
       "2            0.3710                     39.0                0.277778  \n",
       "3            0.3275                     43.0                0.283333  \n",
       "4            0.3180                     23.0                0.323529  "
      ]
     },
     "execution_count": 18,
     "metadata": {},
     "output_type": "execute_result"
    }
   ],
   "source": [
    "# let's calculate the % of free sulfur\n",
    "\n",
    "combinator = CombineWithReferenceFeature(\n",
    "    variables_to_combine=['free sulfur dioxide'],\n",
    "    reference_variables=['total sulfur dioxide'],\n",
    "    operations=['div'],\n",
    "    new_variables_names=['percentage_free_sulfur']\n",
    ")\n",
    "\n",
    "data = combinator.fit_transform(data)\n",
    "\n",
    "# note the new variable at the end of the dataframe\n",
    "data.head()"
   ]
  },
  {
   "cell_type": "code",
   "execution_count": 19,
   "metadata": {
    "execution": {
     "iopub.execute_input": "2021-01-23T12:18:46.629772Z",
     "iopub.status.busy": "2021-01-23T12:18:46.628994Z",
     "iopub.status.idle": "2021-01-23T12:18:46.662853Z",
     "shell.execute_reply": "2021-01-23T12:18:46.663344Z"
    },
    "papermill": {
     "duration": 0.083621,
     "end_time": "2021-01-23T12:18:46.663516",
     "exception": false,
     "start_time": "2021-01-23T12:18:46.579895",
     "status": "completed"
    },
    "tags": []
   },
   "outputs": [
    {
     "data": {
      "text/html": [
       "<div>\n",
       "<style scoped>\n",
       "    .dataframe tbody tr th:only-of-type {\n",
       "        vertical-align: middle;\n",
       "    }\n",
       "\n",
       "    .dataframe tbody tr th {\n",
       "        vertical-align: top;\n",
       "    }\n",
       "\n",
       "    .dataframe thead th {\n",
       "        text-align: right;\n",
       "    }\n",
       "</style>\n",
       "<table border=\"1\" class=\"dataframe\">\n",
       "  <thead>\n",
       "    <tr style=\"text-align: right;\">\n",
       "      <th></th>\n",
       "      <th>fixed acidity</th>\n",
       "      <th>volatile acidity</th>\n",
       "      <th>citric acid</th>\n",
       "      <th>residual sugar</th>\n",
       "      <th>chlorides</th>\n",
       "      <th>free sulfur dioxide</th>\n",
       "      <th>total sulfur dioxide</th>\n",
       "      <th>density</th>\n",
       "      <th>pH</th>\n",
       "      <th>sulphates</th>\n",
       "      <th>alcohol</th>\n",
       "      <th>quality</th>\n",
       "      <th>total_acidity</th>\n",
       "      <th>average_acidity</th>\n",
       "      <th>total_minerals</th>\n",
       "      <th>average_minerals</th>\n",
       "      <th>non_free_sulfur_dioxide</th>\n",
       "      <th>percentage_free_sulfur</th>\n",
       "      <th>percentage_salt_sulfur</th>\n",
       "    </tr>\n",
       "  </thead>\n",
       "  <tbody>\n",
       "    <tr>\n",
       "      <th>0</th>\n",
       "      <td>7.4</td>\n",
       "      <td>0.70</td>\n",
       "      <td>0.00</td>\n",
       "      <td>1.9</td>\n",
       "      <td>0.076</td>\n",
       "      <td>11.0</td>\n",
       "      <td>34.0</td>\n",
       "      <td>0.9978</td>\n",
       "      <td>3.51</td>\n",
       "      <td>0.56</td>\n",
       "      <td>9.4</td>\n",
       "      <td>0</td>\n",
       "      <td>8.10</td>\n",
       "      <td>4.05</td>\n",
       "      <td>0.636</td>\n",
       "      <td>0.3180</td>\n",
       "      <td>23.0</td>\n",
       "      <td>0.323529</td>\n",
       "      <td>0.050909</td>\n",
       "    </tr>\n",
       "    <tr>\n",
       "      <th>1</th>\n",
       "      <td>7.8</td>\n",
       "      <td>0.88</td>\n",
       "      <td>0.00</td>\n",
       "      <td>2.6</td>\n",
       "      <td>0.098</td>\n",
       "      <td>25.0</td>\n",
       "      <td>67.0</td>\n",
       "      <td>0.9968</td>\n",
       "      <td>3.20</td>\n",
       "      <td>0.68</td>\n",
       "      <td>9.8</td>\n",
       "      <td>0</td>\n",
       "      <td>8.68</td>\n",
       "      <td>4.34</td>\n",
       "      <td>0.778</td>\n",
       "      <td>0.3890</td>\n",
       "      <td>42.0</td>\n",
       "      <td>0.373134</td>\n",
       "      <td>0.027200</td>\n",
       "    </tr>\n",
       "    <tr>\n",
       "      <th>2</th>\n",
       "      <td>7.8</td>\n",
       "      <td>0.76</td>\n",
       "      <td>0.04</td>\n",
       "      <td>2.3</td>\n",
       "      <td>0.092</td>\n",
       "      <td>15.0</td>\n",
       "      <td>54.0</td>\n",
       "      <td>0.9970</td>\n",
       "      <td>3.26</td>\n",
       "      <td>0.65</td>\n",
       "      <td>9.8</td>\n",
       "      <td>0</td>\n",
       "      <td>8.56</td>\n",
       "      <td>4.28</td>\n",
       "      <td>0.742</td>\n",
       "      <td>0.3710</td>\n",
       "      <td>39.0</td>\n",
       "      <td>0.277778</td>\n",
       "      <td>0.043333</td>\n",
       "    </tr>\n",
       "    <tr>\n",
       "      <th>3</th>\n",
       "      <td>11.2</td>\n",
       "      <td>0.28</td>\n",
       "      <td>0.56</td>\n",
       "      <td>1.9</td>\n",
       "      <td>0.075</td>\n",
       "      <td>17.0</td>\n",
       "      <td>60.0</td>\n",
       "      <td>0.9980</td>\n",
       "      <td>3.16</td>\n",
       "      <td>0.58</td>\n",
       "      <td>9.8</td>\n",
       "      <td>0</td>\n",
       "      <td>11.48</td>\n",
       "      <td>5.74</td>\n",
       "      <td>0.655</td>\n",
       "      <td>0.3275</td>\n",
       "      <td>43.0</td>\n",
       "      <td>0.283333</td>\n",
       "      <td>0.034118</td>\n",
       "    </tr>\n",
       "    <tr>\n",
       "      <th>4</th>\n",
       "      <td>7.4</td>\n",
       "      <td>0.70</td>\n",
       "      <td>0.00</td>\n",
       "      <td>1.9</td>\n",
       "      <td>0.076</td>\n",
       "      <td>11.0</td>\n",
       "      <td>34.0</td>\n",
       "      <td>0.9978</td>\n",
       "      <td>3.51</td>\n",
       "      <td>0.56</td>\n",
       "      <td>9.4</td>\n",
       "      <td>0</td>\n",
       "      <td>8.10</td>\n",
       "      <td>4.05</td>\n",
       "      <td>0.636</td>\n",
       "      <td>0.3180</td>\n",
       "      <td>23.0</td>\n",
       "      <td>0.323529</td>\n",
       "      <td>0.050909</td>\n",
       "    </tr>\n",
       "  </tbody>\n",
       "</table>\n",
       "</div>"
      ],
      "text/plain": [
       "   fixed acidity  volatile acidity  citric acid  residual sugar  chlorides  \\\n",
       "0            7.4              0.70         0.00             1.9      0.076   \n",
       "1            7.8              0.88         0.00             2.6      0.098   \n",
       "2            7.8              0.76         0.04             2.3      0.092   \n",
       "3           11.2              0.28         0.56             1.9      0.075   \n",
       "4            7.4              0.70         0.00             1.9      0.076   \n",
       "\n",
       "   free sulfur dioxide  total sulfur dioxide  density    pH  sulphates  \\\n",
       "0                 11.0                  34.0   0.9978  3.51       0.56   \n",
       "1                 25.0                  67.0   0.9968  3.20       0.68   \n",
       "2                 15.0                  54.0   0.9970  3.26       0.65   \n",
       "3                 17.0                  60.0   0.9980  3.16       0.58   \n",
       "4                 11.0                  34.0   0.9978  3.51       0.56   \n",
       "\n",
       "   alcohol  quality  total_acidity  average_acidity  total_minerals  \\\n",
       "0      9.4        0           8.10             4.05           0.636   \n",
       "1      9.8        0           8.68             4.34           0.778   \n",
       "2      9.8        0           8.56             4.28           0.742   \n",
       "3      9.8        0          11.48             5.74           0.655   \n",
       "4      9.4        0           8.10             4.05           0.636   \n",
       "\n",
       "   average_minerals  non_free_sulfur_dioxide  percentage_free_sulfur  \\\n",
       "0            0.3180                     23.0                0.323529   \n",
       "1            0.3890                     42.0                0.373134   \n",
       "2            0.3710                     39.0                0.277778   \n",
       "3            0.3275                     43.0                0.283333   \n",
       "4            0.3180                     23.0                0.323529   \n",
       "\n",
       "   percentage_salt_sulfur  \n",
       "0                0.050909  \n",
       "1                0.027200  \n",
       "2                0.043333  \n",
       "3                0.034118  \n",
       "4                0.050909  "
      ]
     },
     "execution_count": 19,
     "metadata": {},
     "output_type": "execute_result"
    }
   ],
   "source": [
    "# let's determine from all free sulfur how much is as salt\n",
    "\n",
    "combinator = CombineWithReferenceFeature(\n",
    "    variables_to_combine=['sulphates'],\n",
    "    reference_variables=['free sulfur dioxide'],\n",
    "    operations=['div'],\n",
    "    new_variables_names=['percentage_salt_sulfur']\n",
    ")\n",
    "\n",
    "data = combinator.fit_transform(data)\n",
    "\n",
    "# note the new variable at the end of the dataframe\n",
    "data.head()"
   ]
  },
  {
   "cell_type": "code",
   "execution_count": 20,
   "metadata": {
    "execution": {
     "iopub.execute_input": "2021-01-23T12:18:46.759146Z",
     "iopub.status.busy": "2021-01-23T12:18:46.758408Z",
     "iopub.status.idle": "2021-01-23T12:18:47.891197Z",
     "shell.execute_reply": "2021-01-23T12:18:47.890613Z"
    },
    "papermill": {
     "duration": 1.181643,
     "end_time": "2021-01-23T12:18:47.891320",
     "exception": false,
     "start_time": "2021-01-23T12:18:46.709677",
     "status": "completed"
    },
    "tags": []
   },
   "outputs": [
    {
     "name": "stderr",
     "output_type": "stream",
     "text": [
      "C:\\Users\\Sole\\Documents\\Repositories\\envs\\fenotebook\\lib\\site-packages\\seaborn\\axisgrid.py:643: UserWarning: Using the boxplot function without specifying `order` is likely to produce an incorrect plot.\n",
      "  warnings.warn(warning)\n"
     ]
    },
    {
     "data": {
      "image/png": "[encoded data removed]",
      "text/plain": [
       "<Figure size 1512x216 with 7 Axes>"
      ]
     },
     "metadata": {
      "needs_background": "light"
     },
     "output_type": "display_data"
    }
   ],
   "source": [
    "# now let's explore the new variables with boxplots\n",
    "\n",
    "new_vars = [\n",
    "    'total_acidity',\n",
    "    'average_acidity',\n",
    "    'total_minerals',\n",
    "    'average_minerals',\n",
    "    'non_free_sulfur_dioxide',\n",
    "    'percentage_free_sulfur',\n",
    "    'percentage_salt_sulfur']\n",
    "\n",
    "# reorganise for plotting\n",
    "df = data[new_vars+['quality']].melt(id_vars=['quality'])\n",
    "\n",
    "# capture variables\n",
    "cols = df.variable.unique()\n",
    "\n",
    "# plot first 6 columns\n",
    "g = sns.axisgrid.FacetGrid(df[df.variable.isin(cols)], col='variable', sharey=False)\n",
    "g.map(sns.boxplot, 'quality','value')\n",
    "plt.show()"
   ]
  },
  {
   "cell_type": "markdown",
   "metadata": {
    "papermill": {
     "duration": 0.046682,
     "end_time": "2021-01-23T12:18:47.984972",
     "exception": false,
     "start_time": "2021-01-23T12:18:47.938290",
     "status": "completed"
    },
    "tags": []
   },
   "source": [
    "## Machine Learning Pipeline\n",
    "\n",
    "Now we are going to carry out all variable creation within a Scikit-learn Pipeline and add a classifier at the end."
   ]
  },
  {
   "cell_type": "code",
   "execution_count": 21,
   "metadata": {
    "execution": {
     "iopub.execute_input": "2021-01-23T12:18:48.090025Z",
     "iopub.status.busy": "2021-01-23T12:18:48.089267Z",
     "iopub.status.idle": "2021-01-23T12:18:48.104744Z",
     "shell.execute_reply": "2021-01-23T12:18:48.104037Z"
    },
    "papermill": {
     "duration": 0.073052,
     "end_time": "2021-01-23T12:18:48.104874",
     "exception": false,
     "start_time": "2021-01-23T12:18:48.031822",
     "status": "completed"
    },
    "tags": []
   },
   "outputs": [
    {
     "data": {
      "text/plain": [
       "((1279, 11), (320, 11))"
      ]
     },
     "execution_count": 21,
     "metadata": {},
     "output_type": "execute_result"
    }
   ],
   "source": [
    "data = pd.read_csv('winequality-red.csv', sep=';')\n",
    "\n",
    "# make binary target\n",
    "data['quality'] = np.where(data['quality'] <= 6, 0, 1)\n",
    "\n",
    "# separate dataset into train and test sets\n",
    "X_train, X_test, y_train, y_test = train_test_split(\n",
    "    data.drop(labels=['quality'], axis=1),\n",
    "    data['quality'],\n",
    "    test_size=0.2,\n",
    "    random_state=0)\n",
    "\n",
    "X_train.shape, X_test.shape"
   ]
  },
  {
   "cell_type": "code",
   "execution_count": 22,
   "metadata": {
    "execution": {
     "iopub.execute_input": "2021-01-23T12:18:48.241663Z",
     "iopub.status.busy": "2021-01-23T12:18:48.240390Z",
     "iopub.status.idle": "2021-01-23T12:18:48.386240Z",
     "shell.execute_reply": "2021-01-23T12:18:48.385467Z"
    },
    "papermill": {
     "duration": 0.23237,
     "end_time": "2021-01-23T12:18:48.386367",
     "exception": false,
     "start_time": "2021-01-23T12:18:48.153997",
     "status": "completed"
    },
    "tags": []
   },
   "outputs": [
    {
     "data": {
      "text/plain": [
       "Pipeline(steps=[('acidity',\n",
       "                 MathematicalCombination(math_operations=['sum', 'mean'],\n",
       "                                         new_variables_names=['total_acidity',\n",
       "                                                              'average_acidity'],\n",
       "                                         variables_to_combine=['fixed acidity',\n",
       "                                                               'volatile '\n",
       "                                                               'acidity'])),\n",
       "                ('total_minerals',\n",
       "                 MathematicalCombination(math_operations=['sum', 'mean'],\n",
       "                                         new_variables_names=['total_minerals',\n",
       "                                                              'average_minearals'],\n",
       "                                         variables_to_combine...\n",
       "                                             reference_variables=['total '\n",
       "                                                                  'sulfur '\n",
       "                                                                  'dioxide'],\n",
       "                                             variables_to_combine=['free '\n",
       "                                                                   'sulfur '\n",
       "                                                                   'dioxide'])),\n",
       "                ('perc_salt_sulfur',\n",
       "                 CombineWithReferenceFeature(new_variables_names=['percentage_salt_sulfur'],\n",
       "                                             operations=['div'],\n",
       "                                             reference_variables=['free sulfur '\n",
       "                                                                  'dioxide'],\n",
       "                                             variables_to_combine=['sulphates'])),\n",
       "                ('gbm',\n",
       "                 GradientBoostingClassifier(max_depth=2, n_estimators=10,\n",
       "                                            random_state=1))])"
      ]
     },
     "execution_count": 22,
     "metadata": {},
     "output_type": "execute_result"
    }
   ],
   "source": [
    "pipe = Pipeline([\n",
    "    # variable creation\n",
    "    ('acidity', MathematicalCombination(\n",
    "        variables_to_combine=['fixed acidity', 'volatile acidity'],\n",
    "        math_operations = ['sum', 'mean'],\n",
    "        new_variables_names = ['total_acidity', 'average_acidity']\n",
    "        )\n",
    "    ),\n",
    "    \n",
    "    ('total_minerals', MathematicalCombination(\n",
    "        variables_to_combine=['chlorides', 'sulphates'],\n",
    "        math_operations = ['sum', 'mean'],\n",
    "        new_variables_names = ['total_minerals', 'average_minearals'],\n",
    "        )\n",
    "    ),\n",
    "    \n",
    "    ('non_free_sulfur', CombineWithReferenceFeature(\n",
    "        variables_to_combine=['total sulfur dioxide'],\n",
    "        reference_variables=['free sulfur dioxide'],\n",
    "        operations=['sub'],\n",
    "        new_variables_names=['non_free_sulfur_dioxide'],\n",
    "        )\n",
    "    ),\n",
    "    \n",
    "    ('perc_free_sulfur', CombineWithReferenceFeature(\n",
    "        variables_to_combine=['free sulfur dioxide'],\n",
    "        reference_variables=['total sulfur dioxide'],\n",
    "        operations=['div'],\n",
    "        new_variables_names=['percentage_free_sulfur'],\n",
    "        )\n",
    "    ),\n",
    "    \n",
    "    ('perc_salt_sulfur', CombineWithReferenceFeature(\n",
    "        variables_to_combine=['sulphates'],\n",
    "        reference_variables=['free sulfur dioxide'],\n",
    "        operations=['div'],\n",
    "        new_variables_names=['percentage_salt_sulfur'],\n",
    "        )\n",
    "    ),\n",
    "    \n",
    "    # =====  the machine learning model ====\n",
    "    \n",
    "    ('gbm', GradientBoostingClassifier(n_estimators=10, max_depth=2, random_state=1)),\n",
    "])\n",
    "\n",
    "# create new variables, and then train gradient boosting machine\n",
    "# uses only the training dataset\n",
    "\n",
    "pipe.fit(X_train, y_train)"
   ]
  },
  {
   "cell_type": "code",
   "execution_count": 23,
   "metadata": {
    "execution": {
     "iopub.execute_input": "2021-01-23T12:18:48.509902Z",
     "iopub.status.busy": "2021-01-23T12:18:48.499863Z",
     "iopub.status.idle": "2021-01-23T12:18:48.599372Z",
     "shell.execute_reply": "2021-01-23T12:18:48.600415Z"
    },
    "papermill": {
     "duration": 0.165519,
     "end_time": "2021-01-23T12:18:48.600655",
     "exception": false,
     "start_time": "2021-01-23T12:18:48.435136",
     "status": "completed"
    },
    "tags": []
   },
   "outputs": [
    {
     "name": "stdout",
     "output_type": "stream",
     "text": [
      "Train roc-auc: 0.8884522340404694\n",
      "Test roc-auc: 0.8693103448275863\n"
     ]
    }
   ],
   "source": [
    "# make predictions and determine model performance\n",
    "\n",
    "# the pipeline takes in the raw data, creates all the new features and then\n",
    "# makes the prediction with the model trained on the final subset of variables\n",
    "\n",
    "# obtain predictions and determine model performance\n",
    "\n",
    "pred = pipe.predict_proba(X_train)\n",
    "print('Train roc-auc: {}'.format(roc_auc_score(y_train, pred[:,1])))\n",
    "\n",
    "pred = pipe.predict_proba(X_test)\n",
    "print('Test roc-auc: {}'.format(roc_auc_score(y_test, pred[:,1])))"
   ]
  },
  {
   "cell_type": "markdown",
   "metadata": {
    "papermill": {
     "duration": 0.04977,
     "end_time": "2021-01-23T12:18:48.710141",
     "exception": false,
     "start_time": "2021-01-23T12:18:48.660371",
     "status": "completed"
    },
    "tags": []
   },
   "source": [
    "## Feature importance"
   ]
  },
  {
   "cell_type": "code",
   "execution_count": 24,
   "metadata": {
    "execution": {
     "iopub.execute_input": "2021-01-23T12:18:48.831178Z",
     "iopub.status.busy": "2021-01-23T12:18:48.830068Z",
     "iopub.status.idle": "2021-01-23T12:18:48.833302Z",
     "shell.execute_reply": "2021-01-23T12:18:48.832359Z"
    },
    "papermill": {
     "duration": 0.067956,
     "end_time": "2021-01-23T12:18:48.833462",
     "exception": false,
     "start_time": "2021-01-23T12:18:48.765506",
     "status": "completed"
    },
    "tags": []
   },
   "outputs": [],
   "source": [
    "new_vars = ['total_acidity', 'average_acidity', 'total_minerals', 'average_minearals',\n",
    "           'non_free_sulfur_dioxide', 'percentage_free_sulfur','percentage_salt_sulfur']"
   ]
  },
  {
   "cell_type": "code",
   "execution_count": 25,
   "metadata": {
    "execution": {
     "iopub.execute_input": "2021-01-23T12:18:48.954651Z",
     "iopub.status.busy": "2021-01-23T12:18:48.953527Z",
     "iopub.status.idle": "2021-01-23T12:18:49.205420Z",
     "shell.execute_reply": "2021-01-23T12:18:49.206089Z"
    },
    "papermill": {
     "duration": 0.309114,
     "end_time": "2021-01-23T12:18:49.206277",
     "exception": false,
     "start_time": "2021-01-23T12:18:48.897163",
     "status": "completed"
    },
    "tags": []
   },
   "outputs": [
    {
     "data": {
      "image/png": "[encoded data removed]",
      "text/plain": [
       "<Figure size 1080x360 with 1 Axes>"
      ]
     },
     "metadata": {
      "needs_background": "light"
     },
     "output_type": "display_data"
    }
   ],
   "source": [
    "importance = pd.Series(pipe.named_steps['gbm'].feature_importances_)\n",
    "importance.index = list(X_train.columns) + new_vars\n",
    "\n",
    "importance.sort_values(ascending=False).plot.bar(figsize=(15,5))\n",
    "plt.ylabel('Feature importance')\n",
    "plt.show()"
   ]
  },
  {
   "cell_type": "markdown",
   "metadata": {
    "papermill": {
     "duration": 0.054163,
     "end_time": "2021-01-23T12:18:49.311787",
     "exception": false,
     "start_time": "2021-01-23T12:18:49.257624",
     "status": "completed"
    },
    "tags": []
   },
   "source": [
    "We see that some of the variables that we created are somewhat important for the prediction, like average_minerals, total_minerals, and total and average acidity.\n",
    "\n",
    "That is all folks!\n",
    "\n",
    "\n",
    "## References and further reading\n",
    "\n",
    "- [Feature-engine](https://feature-engine.readthedocs.io/en/latest/index.html), Python open-source library\n",
    "- [Python Feature Engineering Cookbook](https://www.packtpub.com/data/python-feature-engineering-cookbook)\n",
    "\n",
    "## Other Kaggle kernels featuring Feature-engine\n",
    "\n",
    "- [Feature selection for bank customer satisfaction prediction](https://www.kaggle.com/solegalli/feature-selection-with-feature-engine)\n",
    "- [Feature engineering and selection for house price prediction](https://www.kaggle.com/solegalli/predict-house-price-with-feature-engine)"
   ]
  },
  {
   "cell_type": "code",
   "execution_count": null,
   "metadata": {
    "papermill": {
     "duration": 0.05107,
     "end_time": "2021-01-23T12:18:49.413730",
     "exception": false,
     "start_time": "2021-01-23T12:18:49.362660",
     "status": "completed"
    },
    "tags": []
   },
   "outputs": [],
   "source": []
  }
 ],
 "metadata": {
  "kernelspec": {
   "display_name": "fenotebook",
   "language": "python",
   "name": "fenotebook"
  },
  "language_info": {
   "codemirror_mode": {
    "name": "ipython",
    "version": 3
   },
   "file_extension": ".py",
   "mimetype": "text/x-python",
   "name": "python",
   "nbconvert_exporter": "python",
   "pygments_lexer": "ipython3",
   "version": "3.8.2"
  },
  "papermill": {
   "duration": 32.05827,
   "end_time": "2021-01-23T12:18:49.573123",
   "environment_variables": {},
   "exception": null,
   "input_path": "__notebook__.ipynb",
   "output_path": "__notebook__.ipynb",
   "parameters": {},
   "start_time": "2021-01-23T12:18:17.514853",
   "version": "2.1.0"
  },
  "toc": {
   "base_numbering": 1,
   "nav_menu": {},
   "number_sections": true,
   "sideBar": true,
   "skip_h1_title": false,
   "title_cell": "Table of Contents",
   "title_sidebar": "Contents",
   "toc_cell": false,
   "toc_position": {},
   "toc_section_display": true,
   "toc_window_display": false
  }
 },
 "nbformat": 4,
 "nbformat_minor": 4
}
