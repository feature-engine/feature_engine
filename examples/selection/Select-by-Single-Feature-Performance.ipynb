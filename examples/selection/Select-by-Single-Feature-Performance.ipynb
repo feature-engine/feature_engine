{
 "cells": [
  {
   "cell_type": "markdown",
   "metadata": {},
   "source": [
    "## Univariate Single Performance\n",
    "\n",
    "- Train a ML model per every single feature\n",
    "- Determine the performance of the models\n",
    "- Select features if model performance is above a certain threshold"
   ]
  },
  {
   "cell_type": "code",
   "execution_count": 2,
   "metadata": {},
   "outputs": [],
   "source": [
    "import pandas as pd\n",
    "import numpy as np\n",
    "import matplotlib.pyplot as plt\n",
    "\n",
    "from sklearn.model_selection import train_test_split\n",
    "from sklearn.ensemble import RandomForestClassifier, RandomForestRegressor\n",
    "from sklearn.metrics import roc_auc_score, mean_squared_error\n",
    "\n",
    "from feature_engine.selection import SelectBySingleFeaturePerformance"
   ]
  },
  {
   "cell_type": "markdown",
   "metadata": {},
   "source": [
    "## Classification"
   ]
  },
  {
   "cell_type": "code",
   "execution_count": 2,
   "metadata": {},
   "outputs": [
    {
     "data": {
      "text/plain": [
       "(50000, 109)"
      ]
     },
     "execution_count": 2,
     "metadata": {},
     "output_type": "execute_result"
    }
   ],
   "source": []
  },
  {
   "cell_type": "code",
   "execution_count": 3,
   "metadata": {},
   "outputs": [
    {
     "data": {
      "text/html": [
       "<div>\n",
       "<style scoped>\n",
       "    .dataframe tbody tr th:only-of-type {\n",
       "        vertical-align: middle;\n",
       "    }\n",
       "\n",
       "    .dataframe tbody tr th {\n",
       "        vertical-align: top;\n",
       "    }\n",
       "\n",
       "    .dataframe thead th {\n",
       "        text-align: right;\n",
       "    }\n",
       "</style>\n",
       "<table border=\"1\" class=\"dataframe\">\n",
       "  <thead>\n",
       "    <tr style=\"text-align: right;\">\n",
       "      <th></th>\n",
       "      <th>var_1</th>\n",
       "      <th>var_2</th>\n",
       "      <th>var_3</th>\n",
       "      <th>var_4</th>\n",
       "      <th>var_5</th>\n",
       "      <th>var_6</th>\n",
       "      <th>var_7</th>\n",
       "      <th>var_8</th>\n",
       "      <th>var_9</th>\n",
       "      <th>var_10</th>\n",
       "      <th>...</th>\n",
       "      <th>var_100</th>\n",
       "      <th>var_101</th>\n",
       "      <th>var_102</th>\n",
       "      <th>var_103</th>\n",
       "      <th>var_104</th>\n",
       "      <th>var_105</th>\n",
       "      <th>var_106</th>\n",
       "      <th>var_107</th>\n",
       "      <th>var_108</th>\n",
       "      <th>var_109</th>\n",
       "    </tr>\n",
       "  </thead>\n",
       "  <tbody>\n",
       "    <tr>\n",
       "      <th>0</th>\n",
       "      <td>4.532710</td>\n",
       "      <td>3.280834</td>\n",
       "      <td>17.982476</td>\n",
       "      <td>4.404259</td>\n",
       "      <td>2.349910</td>\n",
       "      <td>0.603264</td>\n",
       "      <td>2.784655</td>\n",
       "      <td>0.323146</td>\n",
       "      <td>12.009691</td>\n",
       "      <td>0.139346</td>\n",
       "      <td>...</td>\n",
       "      <td>2.079066</td>\n",
       "      <td>6.748819</td>\n",
       "      <td>2.941445</td>\n",
       "      <td>18.360496</td>\n",
       "      <td>17.726613</td>\n",
       "      <td>7.774031</td>\n",
       "      <td>1.473441</td>\n",
       "      <td>1.973832</td>\n",
       "      <td>0.976806</td>\n",
       "      <td>2.541417</td>\n",
       "    </tr>\n",
       "    <tr>\n",
       "      <th>1</th>\n",
       "      <td>5.821374</td>\n",
       "      <td>12.098722</td>\n",
       "      <td>13.309151</td>\n",
       "      <td>4.125599</td>\n",
       "      <td>1.045386</td>\n",
       "      <td>1.832035</td>\n",
       "      <td>1.833494</td>\n",
       "      <td>0.709090</td>\n",
       "      <td>8.652883</td>\n",
       "      <td>0.102757</td>\n",
       "      <td>...</td>\n",
       "      <td>2.479789</td>\n",
       "      <td>7.795290</td>\n",
       "      <td>3.557890</td>\n",
       "      <td>17.383378</td>\n",
       "      <td>15.193423</td>\n",
       "      <td>8.263673</td>\n",
       "      <td>1.878108</td>\n",
       "      <td>0.567939</td>\n",
       "      <td>1.018818</td>\n",
       "      <td>1.416433</td>\n",
       "    </tr>\n",
       "    <tr>\n",
       "      <th>2</th>\n",
       "      <td>1.938776</td>\n",
       "      <td>7.952752</td>\n",
       "      <td>0.972671</td>\n",
       "      <td>3.459267</td>\n",
       "      <td>1.935782</td>\n",
       "      <td>0.621463</td>\n",
       "      <td>2.338139</td>\n",
       "      <td>0.344948</td>\n",
       "      <td>9.937850</td>\n",
       "      <td>11.691283</td>\n",
       "      <td>...</td>\n",
       "      <td>1.861487</td>\n",
       "      <td>6.130886</td>\n",
       "      <td>3.401064</td>\n",
       "      <td>15.850471</td>\n",
       "      <td>14.620599</td>\n",
       "      <td>6.849776</td>\n",
       "      <td>1.098210</td>\n",
       "      <td>1.959183</td>\n",
       "      <td>1.575493</td>\n",
       "      <td>1.857893</td>\n",
       "    </tr>\n",
       "    <tr>\n",
       "      <th>3</th>\n",
       "      <td>6.020690</td>\n",
       "      <td>9.900544</td>\n",
       "      <td>17.869637</td>\n",
       "      <td>4.366715</td>\n",
       "      <td>1.973693</td>\n",
       "      <td>2.026012</td>\n",
       "      <td>2.853025</td>\n",
       "      <td>0.674847</td>\n",
       "      <td>11.816859</td>\n",
       "      <td>0.011151</td>\n",
       "      <td>...</td>\n",
       "      <td>1.340944</td>\n",
       "      <td>7.240058</td>\n",
       "      <td>2.417235</td>\n",
       "      <td>15.194609</td>\n",
       "      <td>13.553772</td>\n",
       "      <td>7.229971</td>\n",
       "      <td>0.835158</td>\n",
       "      <td>2.234482</td>\n",
       "      <td>0.946170</td>\n",
       "      <td>2.700606</td>\n",
       "    </tr>\n",
       "    <tr>\n",
       "      <th>4</th>\n",
       "      <td>3.909506</td>\n",
       "      <td>10.576516</td>\n",
       "      <td>0.934191</td>\n",
       "      <td>3.419572</td>\n",
       "      <td>1.871438</td>\n",
       "      <td>3.340811</td>\n",
       "      <td>1.868282</td>\n",
       "      <td>0.439865</td>\n",
       "      <td>13.585620</td>\n",
       "      <td>1.153366</td>\n",
       "      <td>...</td>\n",
       "      <td>2.738095</td>\n",
       "      <td>6.565509</td>\n",
       "      <td>4.341414</td>\n",
       "      <td>15.893832</td>\n",
       "      <td>11.929787</td>\n",
       "      <td>6.954033</td>\n",
       "      <td>1.853364</td>\n",
       "      <td>0.511027</td>\n",
       "      <td>2.599562</td>\n",
       "      <td>0.811364</td>\n",
       "    </tr>\n",
       "  </tbody>\n",
       "</table>\n",
       "<p>5 rows × 109 columns</p>\n",
       "</div>"
      ],
      "text/plain": [
       "      var_1      var_2      var_3     var_4     var_5     var_6     var_7  \\\n",
       "0  4.532710   3.280834  17.982476  4.404259  2.349910  0.603264  2.784655   \n",
       "1  5.821374  12.098722  13.309151  4.125599  1.045386  1.832035  1.833494   \n",
       "2  1.938776   7.952752   0.972671  3.459267  1.935782  0.621463  2.338139   \n",
       "3  6.020690   9.900544  17.869637  4.366715  1.973693  2.026012  2.853025   \n",
       "4  3.909506  10.576516   0.934191  3.419572  1.871438  3.340811  1.868282   \n",
       "\n",
       "      var_8      var_9     var_10  ...   var_100   var_101   var_102  \\\n",
       "0  0.323146  12.009691   0.139346  ...  2.079066  6.748819  2.941445   \n",
       "1  0.709090   8.652883   0.102757  ...  2.479789  7.795290  3.557890   \n",
       "2  0.344948   9.937850  11.691283  ...  1.861487  6.130886  3.401064   \n",
       "3  0.674847  11.816859   0.011151  ...  1.340944  7.240058  2.417235   \n",
       "4  0.439865  13.585620   1.153366  ...  2.738095  6.565509  4.341414   \n",
       "\n",
       "     var_103    var_104   var_105   var_106   var_107   var_108   var_109  \n",
       "0  18.360496  17.726613  7.774031  1.473441  1.973832  0.976806  2.541417  \n",
       "1  17.383378  15.193423  8.263673  1.878108  0.567939  1.018818  1.416433  \n",
       "2  15.850471  14.620599  6.849776  1.098210  1.959183  1.575493  1.857893  \n",
       "3  15.194609  13.553772  7.229971  0.835158  2.234482  0.946170  2.700606  \n",
       "4  15.893832  11.929787  6.954033  1.853364  0.511027  2.599562  0.811364  \n",
       "\n",
       "[5 rows x 109 columns]"
      ]
     },
     "execution_count": 3,
     "metadata": {},
     "output_type": "execute_result"
    }
   ],
   "source": [
    "data.head()"
   ]
  },
  {
   "cell_type": "markdown",
   "metadata": {},
   "source": [
    "**Important**\n",
    "\n",
    "In all feature selection procedures, it is good practice to select the features by examining only the training set. And this is to avoid overfit."
   ]
  },
  {
   "cell_type": "code",
   "execution_count": 4,
   "metadata": {},
   "outputs": [
    {
     "data": {
      "text/plain": [
       "((35000, 108), (15000, 108))"
      ]
     },
     "execution_count": 4,
     "metadata": {},
     "output_type": "execute_result"
    }
   ],
   "source": [
    "# separate train and test sets\n",
    "X_train, X_test, y_train, y_test = train_test_split(\n",
    "    data.drop(labels=['target'], axis=1),\n",
    "    data['target'],\n",
    "    test_size=0.3,\n",
    "    random_state=0)\n",
    "\n",
    "X_train.shape, X_test.shape"
   ]
  },
  {
   "cell_type": "code",
   "execution_count": 5,
   "metadata": {
    "scrolled": true
   },
   "outputs": [
    {
     "data": {
      "text/plain": [
       "SelectBySingleFeaturePerformance(cv=3,\n",
       "                                 estimator=RandomForestClassifier(bootstrap=True,\n",
       "                                                                  ccp_alpha=0.0,\n",
       "                                                                  class_weight=None,\n",
       "                                                                  criterion='gini',\n",
       "                                                                  max_depth=None,\n",
       "                                                                  max_features='auto',\n",
       "                                                                  max_leaf_nodes=None,\n",
       "                                                                  max_samples=None,\n",
       "                                                                  min_impurity_decrease=0.0,\n",
       "                                                                  min_impurity_split=None,\n",
       "                                                                  min_samples_leaf=1,\n",
       "                                                                  min_samples_split=2,\n",
       "                                                                  min_weight_fraction_leaf=0.0,\n",
       "                                                                  n_estimators=10,\n",
       "                                                                  n_jobs=4,...\n",
       "                                                                  random_state=1,\n",
       "                                                                  verbose=0,\n",
       "                                                                  warm_start=False),\n",
       "                                 scoring='roc_auc', threshold=0.5,\n",
       "                                 variables=['var_1', 'var_2', 'var_3', 'var_4',\n",
       "                                            'var_5', 'var_6', 'var_7', 'var_8',\n",
       "                                            'var_9', 'var_10', 'var_11',\n",
       "                                            'var_12', 'var_13', 'var_14',\n",
       "                                            'var_15', 'var_16', 'var_17',\n",
       "                                            'var_18', 'var_19', 'var_20',\n",
       "                                            'var_21', 'var_22', 'var_23',\n",
       "                                            'var_24', 'var_25', 'var_26',\n",
       "                                            'var_27', 'var_28', 'var_29',\n",
       "                                            'var_30', ...])"
      ]
     },
     "execution_count": 5,
     "metadata": {},
     "output_type": "execute_result"
    }
   ],
   "source": [
    "# set up a machine learning model\n",
    "rf = RandomForestClassifier(\n",
    "    n_estimators=10, random_state=1, n_jobs=4)\n",
    "\n",
    "# set up the selector\n",
    "sel = SelectBySingleFeaturePerformance(\n",
    "    variables=None,\n",
    "    estimator=rf,\n",
    "    scoring=\"roc_auc\",\n",
    "    cv=3,\n",
    "    threshold=0.5)\n",
    "\n",
    "# find predictive features\n",
    "sel.fit(X_train, y_train)"
   ]
  },
  {
   "cell_type": "code",
   "execution_count": 6,
   "metadata": {},
   "outputs": [
    {
     "data": {
      "text/plain": [
       "{'var_1': 0.48759277104531346,\n",
       " 'var_2': 0.505848556373206,\n",
       " 'var_3': 0.4905873006786428,\n",
       " 'var_4': 0.5012805125652865,\n",
       " 'var_5': 0.5015503210301652,\n",
       " 'var_6': 0.5002440532815474,\n",
       " 'var_7': 0.5053963427797875,\n",
       " 'var_8': 0.5087215543029918,\n",
       " 'var_9': 0.49864074839764516,\n",
       " 'var_10': 0.5039422399116312,\n",
       " 'var_11': 0.5045241781760413,\n",
       " 'var_12': 0.5033241886174137,\n",
       " 'var_13': 0.5012548463154374,\n",
       " 'var_14': 0.5095474749841596,\n",
       " 'var_15': 0.5066986262291787,\n",
       " 'var_16': 0.5770565890399896,\n",
       " 'var_17': 0.4963318406720993,\n",
       " 'var_18': 0.5023772724145118,\n",
       " 'var_19': 0.5014534628266524,\n",
       " 'var_20': 0.49519324682840477,\n",
       " 'var_21': 0.5018214387922665,\n",
       " 'var_22': 0.5030892351407114,\n",
       " 'var_23': 0.5031365233380981,\n",
       " 'var_24': 0.4987152429182367,\n",
       " 'var_25': 0.497173636121741,\n",
       " 'var_26': 0.4963377682125327,\n",
       " 'var_27': 0.49770130002860463,\n",
       " 'var_28': 0.5066248627234153,\n",
       " 'var_29': 0.5033150006736233,\n",
       " 'var_30': 0.5062985117443208,\n",
       " 'var_31': 0.49807356772302774,\n",
       " 'var_32': 0.495678623121759,\n",
       " 'var_33': 0.5096534597813839,\n",
       " 'var_34': 0.554476603635942,\n",
       " 'var_35': 0.4982928824951949,\n",
       " 'var_36': 0.5037213997441703,\n",
       " 'var_37': 0.5032959693136779,\n",
       " 'var_38': 0.5034444633971414,\n",
       " 'var_39': 0.49672818226598564,\n",
       " 'var_40': 0.49285485172219606,\n",
       " 'var_41': 0.4956177022461454,\n",
       " 'var_42': 0.499118135110552,\n",
       " 'var_43': 0.5035111885173181,\n",
       " 'var_44': 0.5012420802522259,\n",
       " 'var_45': 0.5041885371365862,\n",
       " 'var_46': 0.5040398865066082,\n",
       " 'var_47': 0.5019673294381936,\n",
       " 'var_48': 0.5485944230917331,\n",
       " 'var_49': 0.5012062446075825,\n",
       " 'var_50': 0.49695208014492803,\n",
       " 'var_51': 0.49886238659194165,\n",
       " 'var_52': 0.5047690083324433,\n",
       " 'var_53': 0.5009955432554941,\n",
       " 'var_54': 0.5031391753895997,\n",
       " 'var_55': 0.5735170616832657,\n",
       " 'var_56': 0.5012040356632551,\n",
       " 'var_57': 0.5031376630499037,\n",
       " 'var_58': 0.4976950165205107,\n",
       " 'var_59': 0.5018942424383921,\n",
       " 'var_60': 0.49883764748229514,\n",
       " 'var_62': 0.5006844614613755,\n",
       " 'var_63': 0.4918670728160787,\n",
       " 'var_64': 0.5054045476531455,\n",
       " 'var_65': 0.4914235450966024,\n",
       " 'var_66': 0.503431454248927,\n",
       " 'var_67': 0.5012299391775749,\n",
       " 'var_68': 0.5007903088583734,\n",
       " 'var_69': 0.5751905335213189,\n",
       " 'var_70': 0.50070090102409,\n",
       " 'var_71': 0.49854865673797716,\n",
       " 'var_72': 0.497527053980936,\n",
       " 'var_73': 0.501930977120768,\n",
       " 'var_74': 0.5069934681450569,\n",
       " 'var_75': 0.49934701087253724,\n",
       " 'var_76': 0.5016602881065045,\n",
       " 'var_77': 0.4970360385078478,\n",
       " 'var_78': 0.5017041201659781,\n",
       " 'var_79': 0.49187221347292237,\n",
       " 'var_80': 0.5054402232923457,\n",
       " 'var_81': 0.5026854597110942,\n",
       " 'var_82': 0.5050994549149728,\n",
       " 'var_83': 0.49481205175728027,\n",
       " 'var_84': 0.4936913654592912,\n",
       " 'var_85': 0.4984779500634063,\n",
       " 'var_86': 0.5064321738581167,\n",
       " 'var_87': 0.5014314725479457,\n",
       " 'var_88': 0.49929512310089813,\n",
       " 'var_89': 0.4842900958228915,\n",
       " 'var_90': 0.5069372522848749,\n",
       " 'var_91': 0.5160478157993403,\n",
       " 'var_92': 0.503708577932099,\n",
       " 'var_93': 0.5068833435349135,\n",
       " 'var_94': 0.4999777640728276,\n",
       " 'var_95': 0.5035319494457471,\n",
       " 'var_96': 0.5178620893100708,\n",
       " 'var_97': 0.5056924683483978,\n",
       " 'var_98': 0.5017974680854508,\n",
       " 'var_99': 0.4966139936858995,\n",
       " 'var_100': 0.5029894102293965,\n",
       " 'var_101': 0.5014665068297616,\n",
       " 'var_102': 0.503711634087138,\n",
       " 'var_103': 0.49960972978047263,\n",
       " 'var_104': 0.5038722231810904,\n",
       " 'var_105': 0.49381926543897414,\n",
       " 'var_106': 0.5042605996741548,\n",
       " 'var_107': 0.5030802865376598,\n",
       " 'var_108': 0.5857684101762054,\n",
       " 'var_109': 0.5006681153178233}"
      ]
     },
     "execution_count": 6,
     "metadata": {},
     "output_type": "execute_result"
    }
   ],
   "source": [
    "#  the transformer stores a dictionary of feature:metric pairs\n",
    "# in this case is the roc_auc of each individual model\n",
    "\n",
    "sel.feature_performance_"
   ]
  },
  {
   "cell_type": "code",
   "execution_count": 7,
   "metadata": {},
   "outputs": [
    {
     "data": {
      "text/plain": [
       "Text(0, 0.5, 'roc-auc')"
      ]
     },
     "execution_count": 7,
     "metadata": {},
     "output_type": "execute_result"
    },
    {
     "data": {
      "image/png": "[encoded data removed]",
      "text/plain": [
       "<Figure size 1440x360 with 1 Axes>"
      ]
     },
     "metadata": {
      "needs_background": "light"
     },
     "output_type": "display_data"
    }
   ],
   "source": [
    "# we can plot feature importance sorted by importance\n",
    "\n",
    "pd.Series(sel.feature_performance_).sort_values(ascending=False).plot.bar(figsize=(20, 5))\n",
    "plt.title('Performance of ML models trained with individual features')\n",
    "plt.ylabel('roc-auc')"
   ]
  },
  {
   "cell_type": "code",
   "execution_count": 8,
   "metadata": {},
   "outputs": [
    {
     "data": {
      "text/plain": [
       "36"
      ]
     },
     "execution_count": 8,
     "metadata": {},
     "output_type": "execute_result"
    }
   ],
   "source": [
    "# the features that will be removed\n",
    "\n",
    "len(sel.features_to_drop_)"
   ]
  },
  {
   "cell_type": "code",
   "execution_count": 9,
   "metadata": {},
   "outputs": [
    {
     "data": {
      "text/plain": [
       "((35000, 72), (15000, 72))"
      ]
     },
     "execution_count": 9,
     "metadata": {},
     "output_type": "execute_result"
    }
   ],
   "source": [
    "# remove non-prective features\n",
    "\n",
    "X_train = sel.transform(X_train)\n",
    "X_test = sel.transform(X_test)\n",
    "\n",
    "X_train.shape, X_test.shape"
   ]
  },
  {
   "cell_type": "markdown",
   "metadata": {},
   "source": [
    "## Regression\n",
    "\n",
    "### with r2 and user specified threshold"
   ]
  },
  {
   "cell_type": "code",
   "execution_count": 3,
   "metadata": {},
   "outputs": [
    {
     "data": {
      "text/plain": [
       "(1460, 81)"
      ]
     },
     "execution_count": 3,
     "metadata": {},
     "output_type": "execute_result"
    }
   ],
   "source": [
    "# load dataset\n",
    "\n",
    "data = pd.read_csv('../houseprice.csv')\n",
    "\n",
    "data.shape"
   ]
  },
  {
   "cell_type": "code",
   "execution_count": 4,
   "metadata": {},
   "outputs": [
    {
     "data": {
      "text/plain": [
       "(1460, 38)"
      ]
     },
     "execution_count": 4,
     "metadata": {},
     "output_type": "execute_result"
    }
   ],
   "source": [
    "# I will use only numerical variables\n",
    "# select numerical columns:\n",
    "\n",
    "numerics = ['int16', 'int32', 'int64', 'float16', 'float32', 'float64']\n",
    "numerical_vars = list(data.select_dtypes(include=numerics).columns)\n",
    "data = data[numerical_vars]\n",
    "data.shape"
   ]
  },
  {
   "cell_type": "code",
   "execution_count": 5,
   "metadata": {},
   "outputs": [
    {
     "data": {
      "text/html": [
       "<div>\n",
       "<style scoped>\n",
       "    .dataframe tbody tr th:only-of-type {\n",
       "        vertical-align: middle;\n",
       "    }\n",
       "\n",
       "    .dataframe tbody tr th {\n",
       "        vertical-align: top;\n",
       "    }\n",
       "\n",
       "    .dataframe thead th {\n",
       "        text-align: right;\n",
       "    }\n",
       "</style>\n",
       "<table border=\"1\" class=\"dataframe\">\n",
       "  <thead>\n",
       "    <tr style=\"text-align: right;\">\n",
       "      <th></th>\n",
       "      <th>Id</th>\n",
       "      <th>MSSubClass</th>\n",
       "      <th>LotFrontage</th>\n",
       "      <th>LotArea</th>\n",
       "      <th>OverallQual</th>\n",
       "      <th>OverallCond</th>\n",
       "      <th>YearBuilt</th>\n",
       "      <th>YearRemodAdd</th>\n",
       "      <th>MasVnrArea</th>\n",
       "      <th>BsmtFinSF1</th>\n",
       "      <th>...</th>\n",
       "      <th>WoodDeckSF</th>\n",
       "      <th>OpenPorchSF</th>\n",
       "      <th>EnclosedPorch</th>\n",
       "      <th>3SsnPorch</th>\n",
       "      <th>ScreenPorch</th>\n",
       "      <th>PoolArea</th>\n",
       "      <th>MiscVal</th>\n",
       "      <th>MoSold</th>\n",
       "      <th>YrSold</th>\n",
       "      <th>SalePrice</th>\n",
       "    </tr>\n",
       "  </thead>\n",
       "  <tbody>\n",
       "    <tr>\n",
       "      <th>0</th>\n",
       "      <td>1</td>\n",
       "      <td>60</td>\n",
       "      <td>65.0</td>\n",
       "      <td>8450</td>\n",
       "      <td>7</td>\n",
       "      <td>5</td>\n",
       "      <td>2003</td>\n",
       "      <td>2003</td>\n",
       "      <td>196.0</td>\n",
       "      <td>706</td>\n",
       "      <td>...</td>\n",
       "      <td>0</td>\n",
       "      <td>61</td>\n",
       "      <td>0</td>\n",
       "      <td>0</td>\n",
       "      <td>0</td>\n",
       "      <td>0</td>\n",
       "      <td>0</td>\n",
       "      <td>2</td>\n",
       "      <td>2008</td>\n",
       "      <td>208500</td>\n",
       "    </tr>\n",
       "    <tr>\n",
       "      <th>1</th>\n",
       "      <td>2</td>\n",
       "      <td>20</td>\n",
       "      <td>80.0</td>\n",
       "      <td>9600</td>\n",
       "      <td>6</td>\n",
       "      <td>8</td>\n",
       "      <td>1976</td>\n",
       "      <td>1976</td>\n",
       "      <td>0.0</td>\n",
       "      <td>978</td>\n",
       "      <td>...</td>\n",
       "      <td>298</td>\n",
       "      <td>0</td>\n",
       "      <td>0</td>\n",
       "      <td>0</td>\n",
       "      <td>0</td>\n",
       "      <td>0</td>\n",
       "      <td>0</td>\n",
       "      <td>5</td>\n",
       "      <td>2007</td>\n",
       "      <td>181500</td>\n",
       "    </tr>\n",
       "    <tr>\n",
       "      <th>2</th>\n",
       "      <td>3</td>\n",
       "      <td>60</td>\n",
       "      <td>68.0</td>\n",
       "      <td>11250</td>\n",
       "      <td>7</td>\n",
       "      <td>5</td>\n",
       "      <td>2001</td>\n",
       "      <td>2002</td>\n",
       "      <td>162.0</td>\n",
       "      <td>486</td>\n",
       "      <td>...</td>\n",
       "      <td>0</td>\n",
       "      <td>42</td>\n",
       "      <td>0</td>\n",
       "      <td>0</td>\n",
       "      <td>0</td>\n",
       "      <td>0</td>\n",
       "      <td>0</td>\n",
       "      <td>9</td>\n",
       "      <td>2008</td>\n",
       "      <td>223500</td>\n",
       "    </tr>\n",
       "    <tr>\n",
       "      <th>3</th>\n",
       "      <td>4</td>\n",
       "      <td>70</td>\n",
       "      <td>60.0</td>\n",
       "      <td>9550</td>\n",
       "      <td>7</td>\n",
       "      <td>5</td>\n",
       "      <td>1915</td>\n",
       "      <td>1970</td>\n",
       "      <td>0.0</td>\n",
       "      <td>216</td>\n",
       "      <td>...</td>\n",
       "      <td>0</td>\n",
       "      <td>35</td>\n",
       "      <td>272</td>\n",
       "      <td>0</td>\n",
       "      <td>0</td>\n",
       "      <td>0</td>\n",
       "      <td>0</td>\n",
       "      <td>2</td>\n",
       "      <td>2006</td>\n",
       "      <td>140000</td>\n",
       "    </tr>\n",
       "    <tr>\n",
       "      <th>4</th>\n",
       "      <td>5</td>\n",
       "      <td>60</td>\n",
       "      <td>84.0</td>\n",
       "      <td>14260</td>\n",
       "      <td>8</td>\n",
       "      <td>5</td>\n",
       "      <td>2000</td>\n",
       "      <td>2000</td>\n",
       "      <td>350.0</td>\n",
       "      <td>655</td>\n",
       "      <td>...</td>\n",
       "      <td>192</td>\n",
       "      <td>84</td>\n",
       "      <td>0</td>\n",
       "      <td>0</td>\n",
       "      <td>0</td>\n",
       "      <td>0</td>\n",
       "      <td>0</td>\n",
       "      <td>12</td>\n",
       "      <td>2008</td>\n",
       "      <td>250000</td>\n",
       "    </tr>\n",
       "  </tbody>\n",
       "</table>\n",
       "<p>5 rows × 38 columns</p>\n",
       "</div>"
      ],
      "text/plain": [
       "   Id  MSSubClass  LotFrontage  LotArea  OverallQual  OverallCond  YearBuilt  \\\n",
       "0   1          60         65.0     8450            7            5       2003   \n",
       "1   2          20         80.0     9600            6            8       1976   \n",
       "2   3          60         68.0    11250            7            5       2001   \n",
       "3   4          70         60.0     9550            7            5       1915   \n",
       "4   5          60         84.0    14260            8            5       2000   \n",
       "\n",
       "   YearRemodAdd  MasVnrArea  BsmtFinSF1  ...  WoodDeckSF  OpenPorchSF  \\\n",
       "0          2003       196.0         706  ...           0           61   \n",
       "1          1976         0.0         978  ...         298            0   \n",
       "2          2002       162.0         486  ...           0           42   \n",
       "3          1970         0.0         216  ...           0           35   \n",
       "4          2000       350.0         655  ...         192           84   \n",
       "\n",
       "   EnclosedPorch  3SsnPorch  ScreenPorch  PoolArea  MiscVal  MoSold  YrSold  \\\n",
       "0              0          0            0         0        0       2    2008   \n",
       "1              0          0            0         0        0       5    2007   \n",
       "2              0          0            0         0        0       9    2008   \n",
       "3            272          0            0         0        0       2    2006   \n",
       "4              0          0            0         0        0      12    2008   \n",
       "\n",
       "   SalePrice  \n",
       "0     208500  \n",
       "1     181500  \n",
       "2     223500  \n",
       "3     140000  \n",
       "4     250000  \n",
       "\n",
       "[5 rows x 38 columns]"
      ]
     },
     "execution_count": 5,
     "metadata": {},
     "output_type": "execute_result"
    }
   ],
   "source": [
    "data.head()"
   ]
  },
  {
   "cell_type": "code",
   "execution_count": 6,
   "metadata": {},
   "outputs": [],
   "source": [
    "# fill missing values\n",
    "data.fillna(0, inplace=True)"
   ]
  },
  {
   "cell_type": "code",
   "execution_count": 7,
   "metadata": {},
   "outputs": [
    {
     "data": {
      "text/plain": [
       "((1022, 36), (438, 36))"
      ]
     },
     "execution_count": 7,
     "metadata": {},
     "output_type": "execute_result"
    }
   ],
   "source": [
    "# separate train and test sets\n",
    "X_train, X_test, y_train, y_test = train_test_split(\n",
    "    data.drop(labels=['Id','SalePrice'], axis=1),\n",
    "    data['SalePrice'],\n",
    "    test_size=0.3,\n",
    "    random_state=0)\n",
    "\n",
    "X_train.shape, X_test.shape"
   ]
  },
  {
   "cell_type": "code",
   "execution_count": 8,
   "metadata": {
    "scrolled": true
   },
   "outputs": [
    {
     "data": {
      "text/plain": [
       "SelectBySingleFeaturePerformance(cv=3,\n",
       "                                 estimator=RandomForestRegressor(bootstrap=True,\n",
       "                                                                 ccp_alpha=0.0,\n",
       "                                                                 criterion='mse',\n",
       "                                                                 max_depth=2,\n",
       "                                                                 max_features='auto',\n",
       "                                                                 max_leaf_nodes=None,\n",
       "                                                                 max_samples=None,\n",
       "                                                                 min_impurity_decrease=0.0,\n",
       "                                                                 min_impurity_split=None,\n",
       "                                                                 min_samples_leaf=1,\n",
       "                                                                 min_samples_split=2,\n",
       "                                                                 min_weight_fraction_leaf=0.0,\n",
       "                                                                 n_estimators=10,\n",
       "                                                                 n_jobs=4,\n",
       "                                                                 oob_score=False,\n",
       "                                                                 random_...\n",
       "                                            'OverallCond', 'YearBuilt',\n",
       "                                            'YearRemodAdd', 'MasVnrArea',\n",
       "                                            'BsmtFinSF1', 'BsmtFinSF2',\n",
       "                                            'BsmtUnfSF', 'TotalBsmtSF',\n",
       "                                            '1stFlrSF', '2ndFlrSF',\n",
       "                                            'LowQualFinSF', 'GrLivArea',\n",
       "                                            'BsmtFullBath', 'BsmtHalfBath',\n",
       "                                            'FullBath', 'HalfBath',\n",
       "                                            'BedroomAbvGr', 'KitchenAbvGr',\n",
       "                                            'TotRmsAbvGrd', 'Fireplaces',\n",
       "                                            'GarageYrBlt', 'GarageCars',\n",
       "                                            'GarageArea', 'WoodDeckSF',\n",
       "                                            'OpenPorchSF', 'EnclosedPorch', ...])"
      ]
     },
     "execution_count": 8,
     "metadata": {},
     "output_type": "execute_result"
    }
   ],
   "source": [
    "# set up the machine learning model\n",
    "rf = RandomForestRegressor(\n",
    "    n_estimators=10, max_depth=2, random_state=1, n_jobs=4)\n",
    "\n",
    "# set up the selector\n",
    "sel = SelectBySingleFeaturePerformance(\n",
    "    variables=None,\n",
    "    estimator=rf,\n",
    "    scoring=\"r2\",\n",
    "    cv=3,\n",
    "    threshold=0.5)\n",
    "\n",
    "# find predictive features\n",
    "sel.fit(X_train, y_train)"
   ]
  },
  {
   "cell_type": "code",
   "execution_count": 9,
   "metadata": {},
   "outputs": [
    {
     "data": {
      "text/plain": [
       "{'MSSubClass': 0.18514034601982418,\n",
       " 'LotFrontage': 0.11295437960824546,\n",
       " 'LotArea': 0.18072827270865235,\n",
       " 'OverallQual': 0.6390607189504983,\n",
       " 'OverallCond': 0.10099732436450067,\n",
       " 'YearBuilt': 0.34969187588528144,\n",
       " 'YearRemodAdd': 0.2601114121308128,\n",
       " 'MasVnrArea': 0.1673999965292691,\n",
       " 'BsmtFinSF1': 0.19898086671343473,\n",
       " 'BsmtFinSF2': -0.009703547431066198,\n",
       " 'BsmtUnfSF': 0.05878832827833499,\n",
       " 'TotalBsmtSF': 0.4067200681744638,\n",
       " '1stFlrSF': 0.345102029766815,\n",
       " '2ndFlrSF': 0.21988067672483705,\n",
       " 'LowQualFinSF': -0.025701997588528352,\n",
       " 'GrLivArea': 0.47416720514000604,\n",
       " 'BsmtFullBath': 0.03495762648889167,\n",
       " 'BsmtHalfBath': -0.024767451129236395,\n",
       " 'FullBath': 0.33009421507209774,\n",
       " 'HalfBath': 0.0706292027025724,\n",
       " 'BedroomAbvGr': 0.041702761473751515,\n",
       " 'KitchenAbvGr': 0.0013083175726592937,\n",
       " 'TotRmsAbvGrd': 0.2638005756723682,\n",
       " 'Fireplaces': 0.22352442100930425,\n",
       " 'GarageYrBlt': 0.3244535905924391,\n",
       " 'GarageCars': 0.47450883716087217,\n",
       " 'GarageArea': 0.40288417091771045,\n",
       " 'WoodDeckSF': 0.08310430213187643,\n",
       " 'OpenPorchSF': 0.1643740260023531,\n",
       " 'EnclosedPorch': 0.01968392472831119,\n",
       " '3SsnPorch': -0.015983053363372097,\n",
       " 'ScreenPorch': -0.028138373401361383,\n",
       " 'PoolArea': -0.018943303419751183,\n",
       " 'MiscVal': -0.021566858715237263,\n",
       " 'MoSold': -0.03822068210669275,\n",
       " 'YrSold': -0.0220552736414672}"
      ]
     },
     "execution_count": 9,
     "metadata": {},
     "output_type": "execute_result"
    }
   ],
   "source": [
    "# the transformer stores a dictionary of feature:metric pairs\n",
    "# notice that the r2 can be positive or negative.\n",
    "# the selector selects based on the absolute value\n",
    "\n",
    "sel.feature_performance_"
   ]
  },
  {
   "cell_type": "code",
   "execution_count": 10,
   "metadata": {
    "scrolled": false
   },
   "outputs": [
    {
     "data": {
      "text/plain": [
       "Text(0, 0.5, 'r2')"
      ]
     },
     "execution_count": 10,
     "metadata": {},
     "output_type": "execute_result"
    },
    {
     "data": {
      "image/png": "[encoded data removed]",
      "text/plain": [
       "<Figure size 1440x360 with 1 Axes>"
      ]
     },
     "metadata": {
      "needs_background": "light"
     },
     "output_type": "display_data"
    }
   ],
   "source": [
    "pd.Series(sel.feature_performance_).sort_values(ascending=False).plot.bar(figsize=(20, 5))\n",
    "plt.title('Performance of ML models trained with individual features')\n",
    "plt.ylabel('r2')"
   ]
  },
  {
   "cell_type": "code",
   "execution_count": 11,
   "metadata": {},
   "outputs": [
    {
     "data": {
      "text/plain": [
       "Text(0, 0.5, 'r2 - absolute value')"
      ]
     },
     "execution_count": 11,
     "metadata": {},
     "output_type": "execute_result"
    },
    {
     "data": {
      "image/png": "[encoded data removed]",
      "text/plain": [
       "<Figure size 1440x360 with 1 Axes>"
      ]
     },
     "metadata": {
      "needs_background": "light"
     },
     "output_type": "display_data"
    }
   ],
   "source": [
    "# same plot but taking the absolute value of the r2\n",
    "\n",
    "np.abs(pd.Series(sel.feature_performance_)).sort_values(ascending=False).plot.bar(figsize=(20, 5))\n",
    "plt.title('Performance of ML models trained with individual features')\n",
    "plt.ylabel('r2 - absolute value')"
   ]
  },
  {
   "cell_type": "code",
   "execution_count": 12,
   "metadata": {},
   "outputs": [
    {
     "data": {
      "text/plain": [
       "35"
      ]
     },
     "execution_count": 12,
     "metadata": {},
     "output_type": "execute_result"
    }
   ],
   "source": [
    "# the features that will be removed\n",
    "\n",
    "len(sel.features_to_drop_)"
   ]
  },
  {
   "cell_type": "code",
   "execution_count": 13,
   "metadata": {},
   "outputs": [
    {
     "data": {
      "text/plain": [
       "((1022, 1), (438, 1))"
      ]
     },
     "execution_count": 13,
     "metadata": {},
     "output_type": "execute_result"
    }
   ],
   "source": [
    "# select features in the dataframes\n",
    "\n",
    "X_train = sel.transform(X_train)\n",
    "X_test = sel.transform(X_test)\n",
    "\n",
    "X_train.shape, X_test.shape"
   ]
  },
  {
   "cell_type": "markdown",
   "metadata": {},
   "source": [
    "### Automatically select threshold\n",
    "\n",
    "If we leave the threshold to None, the threshold will be automatically specified as the mean of performance of all features."
   ]
  },
  {
   "cell_type": "code",
   "execution_count": 14,
   "metadata": {},
   "outputs": [
    {
     "data": {
      "text/plain": [
       "((1022, 36), (438, 36))"
      ]
     },
     "execution_count": 14,
     "metadata": {},
     "output_type": "execute_result"
    }
   ],
   "source": [
    "# separate train and test sets\n",
    "X_train, X_test, y_train, y_test = train_test_split(\n",
    "    data.drop(labels=['Id','SalePrice'], axis=1),\n",
    "    data['SalePrice'],\n",
    "    test_size=0.3,\n",
    "    random_state=0)\n",
    "\n",
    "X_train.shape, X_test.shape"
   ]
  },
  {
   "cell_type": "code",
   "execution_count": 15,
   "metadata": {},
   "outputs": [
    {
     "data": {
      "text/plain": [
       "SelectBySingleFeaturePerformance(cv=3,\n",
       "                                 estimator=RandomForestRegressor(bootstrap=True,\n",
       "                                                                 ccp_alpha=0.0,\n",
       "                                                                 criterion='mse',\n",
       "                                                                 max_depth=2,\n",
       "                                                                 max_features='auto',\n",
       "                                                                 max_leaf_nodes=None,\n",
       "                                                                 max_samples=None,\n",
       "                                                                 min_impurity_decrease=0.0,\n",
       "                                                                 min_impurity_split=None,\n",
       "                                                                 min_samples_leaf=1,\n",
       "                                                                 min_samples_split=2,\n",
       "                                                                 min_weight_fraction_leaf=0.0,\n",
       "                                                                 n_estimators=10,\n",
       "                                                                 n_jobs=4,\n",
       "                                                                 oob_score=False,\n",
       "                                                                 random_...\n",
       "                                            'OverallCond', 'YearBuilt',\n",
       "                                            'YearRemodAdd', 'MasVnrArea',\n",
       "                                            'BsmtFinSF1', 'BsmtFinSF2',\n",
       "                                            'BsmtUnfSF', 'TotalBsmtSF',\n",
       "                                            '1stFlrSF', '2ndFlrSF',\n",
       "                                            'LowQualFinSF', 'GrLivArea',\n",
       "                                            'BsmtFullBath', 'BsmtHalfBath',\n",
       "                                            'FullBath', 'HalfBath',\n",
       "                                            'BedroomAbvGr', 'KitchenAbvGr',\n",
       "                                            'TotRmsAbvGrd', 'Fireplaces',\n",
       "                                            'GarageYrBlt', 'GarageCars',\n",
       "                                            'GarageArea', 'WoodDeckSF',\n",
       "                                            'OpenPorchSF', 'EnclosedPorch', ...])"
      ]
     },
     "execution_count": 15,
     "metadata": {},
     "output_type": "execute_result"
    }
   ],
   "source": [
    "# set up the machine learning model\n",
    "rf = RandomForestRegressor(\n",
    "    n_estimators=10, max_depth=2, random_state=1, n_jobs=4)\n",
    "\n",
    "# set up the selector\n",
    "sel = SelectBySingleFeaturePerformance(\n",
    "    variables=None,\n",
    "    estimator=rf,\n",
    "    scoring=\"neg_mean_squared_error\",\n",
    "    cv=3,\n",
    "    threshold=None)\n",
    "\n",
    "# find predictive features\n",
    "sel.fit(X_train, y_train)"
   ]
  },
  {
   "cell_type": "code",
   "execution_count": 16,
   "metadata": {},
   "outputs": [
    {
     "data": {
      "text/plain": [
       "{'MSSubClass': -4946270056.549981,\n",
       " 'LotFrontage': -5343492813.892375,\n",
       " 'LotArea': -4928459117.321639,\n",
       " 'OverallQual': -2193369380.493084,\n",
       " 'OverallCond': -5448634768.315696,\n",
       " 'YearBuilt': -3962171141.8131747,\n",
       " 'YearRemodAdd': -4491466004.666675,\n",
       " 'MasVnrArea': -4989419433.834832,\n",
       " 'BsmtFinSF1': -4781178509.147069,\n",
       " 'BsmtFinSF2': -6114101356.530289,\n",
       " 'BsmtUnfSF': -5733048337.536067,\n",
       " 'TotalBsmtSF': -3592806788.9542003,\n",
       " '1stFlrSF': -3926595795.1685433,\n",
       " '2ndFlrSF': -4723468623.759179,\n",
       " 'LowQualFinSF': -6215527247.916032,\n",
       " 'GrLivArea': -3196235551.3794694,\n",
       " 'BsmtFullBath': -5841851990.276611,\n",
       " 'BsmtHalfBath': -6209234331.852562,\n",
       " 'FullBath': -4111826645.2049403,\n",
       " 'HalfBath': -5635203820.852725,\n",
       " 'BedroomAbvGr': -5827807934.638268,\n",
       " 'KitchenAbvGr': -6043745816.133111,\n",
       " 'TotRmsAbvGrd': -4442659307.3334255,\n",
       " 'Fireplaces': -4698230724.431931,\n",
       " 'GarageYrBlt': -4099773671.5096774,\n",
       " 'GarageCars': -3202894600.2360916,\n",
       " 'GarageArea': -3616607624.57791,\n",
       " 'WoodDeckSF': -5528025759.633686,\n",
       " 'OpenPorchSF': -5064220628.284651,\n",
       " 'EnclosedPorch': -5933707125.560594,\n",
       " '3SsnPorch': -6146513222.956445,\n",
       " 'ScreenPorch': -6221269044.222466,\n",
       " 'PoolArea': -6167657915.967635,\n",
       " 'MiscVal': -6172676184.960537,\n",
       " 'MoSold': -6270464180.500163,\n",
       " 'YrSold': -6184119294.0204115}"
      ]
     },
     "execution_count": 16,
     "metadata": {},
     "output_type": "execute_result"
    }
   ],
   "source": [
    "# the transformer stores a dictionary of feature:metric pairs\n",
    "# the selector will select those features with neg mean squared error\n",
    "# bigger than the mean of the neg squared error of all features\n",
    "\n",
    "sel.feature_performance_"
   ]
  },
  {
   "cell_type": "code",
   "execution_count": 17,
   "metadata": {},
   "outputs": [
    {
     "data": {
      "text/plain": [
       "Text(0, 0.5, 'Negative mean Squared Error')"
      ]
     },
     "execution_count": 17,
     "metadata": {},
     "output_type": "execute_result"
    },
    {
     "data": {
      "image/png": "[encoded data removed]",
      "text/plain": [
       "<Figure size 1440x360 with 1 Axes>"
      ]
     },
     "metadata": {
      "needs_background": "light"
     },
     "output_type": "display_data"
    }
   ],
   "source": [
    "pd.Series(sel.feature_performance_).sort_values(ascending=False).plot.bar(figsize=(20, 5))\n",
    "plt.title('Performance of ML models trained with individual features')\n",
    "plt.ylabel('Negative mean Squared Error')"
   ]
  },
  {
   "cell_type": "code",
   "execution_count": 18,
   "metadata": {},
   "outputs": [
    {
     "data": {
      "text/plain": [
       "['LotFrontage',\n",
       " 'OverallCond',\n",
       " 'BsmtFinSF2',\n",
       " 'BsmtUnfSF',\n",
       " 'LowQualFinSF',\n",
       " 'BsmtFullBath',\n",
       " 'BsmtHalfBath',\n",
       " 'HalfBath',\n",
       " 'BedroomAbvGr',\n",
       " 'KitchenAbvGr',\n",
       " 'WoodDeckSF',\n",
       " 'OpenPorchSF',\n",
       " 'EnclosedPorch',\n",
       " '3SsnPorch',\n",
       " 'ScreenPorch',\n",
       " 'PoolArea',\n",
       " 'MiscVal',\n",
       " 'MoSold',\n",
       " 'YrSold']"
      ]
     },
     "execution_count": 18,
     "metadata": {},
     "output_type": "execute_result"
    }
   ],
   "source": [
    "# the features that will be dropped\n",
    "sel.features_to_drop_"
   ]
  },
  {
   "cell_type": "code",
   "execution_count": 20,
   "metadata": {},
   "outputs": [
    {
     "data": {
      "text/plain": [
       "<matplotlib.axes._subplots.AxesSubplot at 0x2f2880f8e0>"
      ]
     },
     "execution_count": 20,
     "metadata": {},
     "output_type": "execute_result"
    },
    {
     "data": {
      "image/png": "[encoded data removed]",
      "text/plain": [
       "<Figure size 1440x360 with 1 Axes>"
      ]
     },
     "metadata": {
      "needs_background": "light"
     },
     "output_type": "display_data"
    }
   ],
   "source": [
    "# note that these features have the biggest negative mean squared error\n",
    "pd.Series(sel.feature_performance_)[sel.features_to_drop_].sort_values(ascending=False).plot.bar(figsize=(20, 5))"
   ]
  },
  {
   "cell_type": "code",
   "execution_count": null,
   "metadata": {},
   "outputs": [],
   "source": []
  }
 ],
 "metadata": {
  "kernelspec": {
   "display_name": "fengine",
   "language": "python",
   "name": "fengine"
  },
  "language_info": {
   "codemirror_mode": {
    "name": "ipython",
    "version": 3
   },
   "file_extension": ".py",
   "mimetype": "text/x-python",
   "name": "python",
   "nbconvert_exporter": "python",
   "pygments_lexer": "ipython3",
   "version": "3.8.2"
  },
  "toc": {
   "base_numbering": 1,
   "nav_menu": {},
   "number_sections": true,
   "sideBar": true,
   "skip_h1_title": false,
   "title_cell": "Table of Contents",
   "title_sidebar": "Contents",
   "toc_cell": false,
   "toc_position": {},
   "toc_section_display": "block",
   "toc_window_display": true
  }
 },
 "nbformat": 4,
 "nbformat_minor": 2
}
